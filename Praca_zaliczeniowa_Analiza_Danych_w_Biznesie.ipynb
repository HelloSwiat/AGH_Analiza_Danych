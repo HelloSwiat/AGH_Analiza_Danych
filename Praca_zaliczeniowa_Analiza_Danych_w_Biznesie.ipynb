{
  "cells": [
    {
      "cell_type": "markdown",
      "metadata": {
        "id": "view-in-github",
        "colab_type": "text"
      },
      "source": [
        "<a href=\"https://colab.research.google.com/github/HelloSwiat/AGH_Analiza_Danych/blob/main/Praca_zaliczeniowa_Analiza_Danych_w_Biznesie.ipynb\" target=\"_parent\"><img src=\"https://colab.research.google.com/assets/colab-badge.svg\" alt=\"Open In Colab\"/></a>"
      ]
    },
    {
      "cell_type": "markdown",
      "metadata": {
        "id": "HQ5Acbfjlr0M"
      },
      "source": [
        "# 1 Inicjowanie bibliotek\n"
      ]
    },
    {
      "cell_type": "code",
      "execution_count": 1,
      "metadata": {
        "colab": {
          "base_uri": "https://localhost:8080/"
        },
        "collapsed": true,
        "id": "EkTiwHLCGQEw",
        "outputId": "be76cea1-d390-4c74-9e4a-0197cdd0e40a"
      },
      "outputs": [
        {
          "output_type": "stream",
          "name": "stdout",
          "text": [
            "Collecting pyreadstat\n",
            "  Downloading pyreadstat-1.2.8-cp311-cp311-manylinux_2_17_x86_64.manylinux2014_x86_64.whl.metadata (1.0 kB)\n",
            "Requirement already satisfied: pandas>=1.2.0 in /usr/local/lib/python3.11/dist-packages (from pyreadstat) (2.2.2)\n",
            "Requirement already satisfied: numpy>=1.23.2 in /usr/local/lib/python3.11/dist-packages (from pandas>=1.2.0->pyreadstat) (2.0.2)\n",
            "Requirement already satisfied: python-dateutil>=2.8.2 in /usr/local/lib/python3.11/dist-packages (from pandas>=1.2.0->pyreadstat) (2.9.0.post0)\n",
            "Requirement already satisfied: pytz>=2020.1 in /usr/local/lib/python3.11/dist-packages (from pandas>=1.2.0->pyreadstat) (2025.2)\n",
            "Requirement already satisfied: tzdata>=2022.7 in /usr/local/lib/python3.11/dist-packages (from pandas>=1.2.0->pyreadstat) (2025.2)\n",
            "Requirement already satisfied: six>=1.5 in /usr/local/lib/python3.11/dist-packages (from python-dateutil>=2.8.2->pandas>=1.2.0->pyreadstat) (1.17.0)\n",
            "Downloading pyreadstat-1.2.8-cp311-cp311-manylinux_2_17_x86_64.manylinux2014_x86_64.whl (2.9 MB)\n",
            "\u001b[2K   \u001b[90m━━━━━━━━━━━━━━━━━━━━━━━━━━━━━━━━━━━━━━━━\u001b[0m \u001b[32m2.9/2.9 MB\u001b[0m \u001b[31m16.3 MB/s\u001b[0m eta \u001b[36m0:00:00\u001b[0m\n",
            "\u001b[?25hInstalling collected packages: pyreadstat\n",
            "Successfully installed pyreadstat-1.2.8\n"
          ]
        }
      ],
      "source": [
        "import pandas as pd\n",
        "import numpy as np\n",
        "import matplotlib.pyplot as plt\n",
        "import seaborn as sns\n",
        "import matplotlib.pyplot as plt\n",
        "\n",
        "# Pakiet do otwierania plików o innych formatach --> https://github.com/Roche/pyreadstat\n",
        "!pip install pyreadstat\n",
        "import pyreadstat"
      ]
    },
    {
      "cell_type": "code",
      "execution_count": 2,
      "metadata": {
        "colab": {
          "base_uri": "https://localhost:8080/"
        },
        "id": "KWbBEQtQHb4n",
        "outputId": "69b252e7-a695-4893-9597-69b9cecd790c"
      },
      "outputs": [
        {
          "output_type": "stream",
          "name": "stdout",
          "text": [
            "Mounted at /content/drive\n"
          ]
        }
      ],
      "source": [
        "# Instalacja dysku googla- gdzie przechowywany jest plik z danymi (wersja dla Colab'a)\n",
        "\n",
        "from google.colab import drive\n",
        "drive.mount('/content/drive')"
      ]
    },
    {
      "cell_type": "markdown",
      "metadata": {
        "id": "R735nBG2lu9y"
      },
      "source": [
        "# 2 Wczytanie oryginalnych baz danych"
      ]
    },
    {
      "cell_type": "code",
      "execution_count": 16,
      "metadata": {
        "id": "gRHVqeJWHtKy"
      },
      "outputs": [],
      "source": [
        "# ścieżka do plików z danymi\n",
        "\n",
        "# ludność\n",
        "file_path_L = '/content/drive/My Drive/Colab Notebooks/bkl21d.sav'\n",
        "\n",
        "# pracodawcy\n",
        "file_path_P = '/content/drive/My Drive/Colab Notebooks/bkl21f.sav'"
      ]
    },
    {
      "cell_type": "code",
      "execution_count": 17,
      "metadata": {
        "id": "4jUKVXqTGlzO",
        "colab": {
          "base_uri": "https://localhost:8080/",
          "height": 323
        },
        "collapsed": true,
        "outputId": "34382b12-8911-4b6a-d0f9-4a4e5bf35c9c"
      },
      "outputs": [
        {
          "output_type": "error",
          "ename": "ReadstatError",
          "evalue": "Unknown error",
          "traceback": [
            "\u001b[0;31m---------------------------------------------------------------------------\u001b[0m",
            "\u001b[0;31mReadstatError\u001b[0m                             Traceback (most recent call last)",
            "\u001b[0;32m<ipython-input-17-5c1bf24b1165>\u001b[0m in \u001b[0;36m<cell line: 0>\u001b[0;34m()\u001b[0m\n\u001b[1;32m      3\u001b[0m \u001b[0;34m\u001b[0m\u001b[0m\n\u001b[1;32m      4\u001b[0m \u001b[0;31m# Wczytanie pliku z danymi nt. pracodawców\u001b[0m\u001b[0;34m\u001b[0m\u001b[0;34m\u001b[0m\u001b[0m\n\u001b[0;32m----> 5\u001b[0;31m \u001b[0mdf_P\u001b[0m\u001b[0;34m,\u001b[0m \u001b[0mmeta\u001b[0m \u001b[0;34m=\u001b[0m \u001b[0mpyreadstat\u001b[0m\u001b[0;34m.\u001b[0m\u001b[0mread_sav\u001b[0m\u001b[0;34m(\u001b[0m\u001b[0mfile_path_P\u001b[0m\u001b[0;34m)\u001b[0m\u001b[0;34m\u001b[0m\u001b[0;34m\u001b[0m\u001b[0m\n\u001b[0m",
            "\u001b[0;32mpyreadstat/pyreadstat.pyx\u001b[0m in \u001b[0;36mpyreadstat.pyreadstat.read_sav\u001b[0;34m()\u001b[0m\n",
            "\u001b[0;32mpyreadstat/_readstat_parser.pyx\u001b[0m in \u001b[0;36mpyreadstat._readstat_parser.run_conversion\u001b[0;34m()\u001b[0m\n",
            "\u001b[0;32mpyreadstat/_readstat_parser.pyx\u001b[0m in \u001b[0;36mpyreadstat._readstat_parser.run_readstat_parser\u001b[0;34m()\u001b[0m\n",
            "\u001b[0;32mpyreadstat/_readstat_parser.pyx\u001b[0m in \u001b[0;36mpyreadstat._readstat_parser.check_exit_status\u001b[0;34m()\u001b[0m\n",
            "\u001b[0;31mReadstatError\u001b[0m: Unknown error"
          ]
        }
      ],
      "source": [
        "# Wczytanie pliku z danymi nt. ludności\n",
        "df_L, meta = pyreadstat.read_sav(file_path_L)\n",
        "\n",
        "# Wczytanie pliku z danymi nt. pracodawców\n",
        "# df_P, meta = pyreadstat.read_sav(file_path_P)"
      ]
    },
    {
      "cell_type": "code",
      "execution_count": 5,
      "metadata": {
        "colab": {
          "base_uri": "https://localhost:8080/"
        },
        "collapsed": true,
        "id": "rhbAN9diG0Rs",
        "outputId": "f1da355d-dfef-4c68-8cc9-0c09b5737d2f"
      },
      "outputs": [
        {
          "output_type": "stream",
          "name": "stdout",
          "text": [
            "       id       intid  waga_proba  waga_proba_kor      waga_pop  waga_pop_kor  \\\n",
            "0  6590.0  03540-2021    0.374529        0.379380   3732.470588   3780.814881   \n",
            "1  6591.0  02070-2021    0.865094        0.876299   8621.333333   8732.999924   \n",
            "2  6592.0  01987-2021    0.283841        0.287518   2828.700000   2865.338333   \n",
            "3  6593.0  01686-2021    1.380901        1.398787  13761.750000  13939.997104   \n",
            "4  6594.0  04358-2021    0.897526        0.909151   8944.545455   9060.398404   \n",
            "\n",
            "   rodzaj  edycja     rok     datawyw  ...  pform4t  neet  neet2  form12m  \\\n",
            "0     1.0  2021.0  2021.0  2021-09-20  ...      0.0   0.0    0.0      0.0   \n",
            "1     1.0  2021.0  2021.0  2021-09-20  ...      1.0   0.0    0.0      1.0   \n",
            "2     1.0  2021.0  2021.0  2021-09-20  ...      0.0   0.0    0.0      0.0   \n",
            "3     1.0  2021.0  2021.0  2021-09-20  ...      1.0   0.0    0.0      0.0   \n",
            "4     1.0  2021.0  2021.0  2021-09-20  ...      1.0   0.0    0.0      0.0   \n",
            "\n",
            "   pform12m1  pform12m2  pform12m  nform12m  dokszt_all  dokszt_all_bo  \n",
            "0        0.0        0.0       0.0       1.0         1.0            1.0  \n",
            "1        1.0        1.0       1.0       1.0         1.0            1.0  \n",
            "2        1.0        0.0       1.0       1.0         1.0            1.0  \n",
            "3        1.0        0.0       1.0       1.0         1.0            1.0  \n",
            "4        1.0        1.0       1.0       1.0         1.0            1.0  \n",
            "\n",
            "[5 rows x 910 columns]\n"
          ]
        }
      ],
      "source": [
        "# Wyświetlenie kilka pierwszych wierszy\n",
        "print(df_L.head())"
      ]
    },
    {
      "cell_type": "code",
      "execution_count": 6,
      "metadata": {
        "colab": {
          "base_uri": "https://localhost:8080/"
        },
        "id": "PgDRqYouQB9_",
        "outputId": "7296a373-b0ed-45e3-852f-5d5867142e75"
      },
      "outputs": [
        {
          "output_type": "stream",
          "name": "stdout",
          "text": [
            "    id      intid  waga_proba  waga_proba_kor    waga_pop  waga_pop_kor  rodzaj  edycja    rok    datawyw  powiat  woj  region  miejsce  miejsce_4k  powiat_operat  woj_operat  region_operat  miejsce_operat     m1  wiek  wiek_10k  wiek_6k  wiek_4k  wiek_3k  m2 prace praceteraz  BAEL_bezro  BAEL_praca  BAEL_aktyw  BAEL_sytzaw  BAEL_sytzaw2  bezrej  wykszt  wykszt_7k  wykszt_4k  wykszt_3k  matura  wyzsze  najwyzsze  uczy  uczy_gdzie  p1  p1_typ  p1_nrol  p1_rol  p2_pkd1  p2_pkd2  p2_pkd3  p2_pkd4  p2_pkd5  p2_1  p2_pkd_21k  p2_pkd_6k  p2_pkd_4k  p3_isco  p3_isco_d  p3_1  p3_2     p4   p5  p6  p6_1  p6_1x  p7_1  p7_2  p7_3  p7_4  p8  p9  p9_1  p9_1x  hp9_1_1  p9_2  p9_2x  hp9_2_1  p10a_00  p10a_01  p10a_02  p10a_03  p10a_04  p10a_05  p10a_06  p10a_07  p10a_08  p10a_09  p10a_10  p10a_11  p10a_12  p10a_13  p10a_14  p10a_15  p10a_15i  p10a_naj  p10b_00  p10b_01  p10b_02  p10b_03  p10b_04  p10b_05  p10b_06  p10b_07  p10b_08  p10b_09  p10b_10  p10b_11  p10b_12  p10b_13  p10b_14  p10b_15  p10b_15i  p10b_naj  p11  p12  p13  hp13_1  p14  hp14_1   q1  q2_pkd  q3_isco  q4  q5  q6  q7  q8_00  q8_01  q8_02  q8_03  q8_04  q8_05  q8_06  q8_07  q8_08  q8_09  q8_10  q8_11  q8_12  q8_13  q8_14  q8_15  q8_15i  q8_naj   q9  e1  e1_3m  e1_1  e1_1x  e2  e2_1  e2_2  e3  e4  e5_01  e5_02  e5_03  e5_04  e5_05  e5_06  e5_07  e5_08  e5_09  e5_10  e5_11  e5_1_1  e5_1_2  e5_1_3  e5_1_4  e5_1_5  e5_1_6  e5_2_0  e5_2_1  e5_2_2  e5_2_3  e5_2_4  e5_2_5  e6  e7  e8   e9  e9_1  e9_2m  e9_2r  e9_2ilem  e10_isco  e10_isco_d  e11  e12  he12a  he12a1  he12b  he12b1  he12c  he12c1  e13_kier  e13  e13_1  e13_2  e14_1  e14_2  e14_3  e14_4  e15  e15w  e15L  e15M  e16  e17  e18  e19_01  e19_02  e19_03  e19_04  e19_05  e19_06  e19_07  e19_08  e19_09  e19_10  e19_11  e19_12  e19_13  e19_14  e19_15  e19_16  e19_15i  e20  e20_1  e20_1_isco  e20_1_isco_d  e21  e22  e23  he23_1  e24  e25  e26  e27  ee1  ee2L  ee2M  f1     f2     f3  f4_01  f4_02  f4_03  f4_04  f4_05  f4_06  f4_07  f4_08  f4_09  f4_10  f4_11  f4_12  f4_13  f4_14  f4_15  f4_15i  hf4_1  f5_isco  f5_isco_d  f6  f7  u1  u2  u2x  u2x_gl  u3  u3_5k  u3_1  u3_1x  u3_2  u4_1  u4_2  u4_3  u5_isco  u5_isco_d  u6  u7  u8  n1  n2_dni  n2_mies  n3_01  n3_02  n3_03  n3_04  n4_01  n4_02  n4_03  n4_04  n4_05  n4_06  n4_07  n4_08  n4_09  n4_10  n4_11  n4_12  n4_13  n5  n5x  n6  n6x  n7  n8_01  n8_02  n8_03  n8_04  n8_05  n8_06  n8_07  n8_08  n8_09  n8_10  n8_11  n9  n10  n11  n12  n12_1  n13  n14  c1  c2  x1  x2  x3  x4  x5  v1_1  v1_2  v1_3  v1_4  v1_5  v1_6  v2  y1  y1_1  y1_2  y2  g1  g1_1  g1_2  g1_3  g1_4ile  g1_4ile_8k  g1_4mies  g1_4lat  g2  g2_1  g2_2  g2_3  g2_4   g3   g3_1  g3_1_1_isco  g3_2   g4   g5  g6_1  g6_2  g7  g8  g8x  g8_isco  g9_pkd1  g9_pkd2  g9_pkd3  j1_01  j1_02  j1_03  j1_04  j1_05  j1_06  j1_07  j1_08  j1_09  j1_10  j2  j2i_isco  j2i_isco_d  j3_01  j3_02  j3_03  j3_04  j3_05  j3_06  j3_07  j3_08  j3_09  j3_10  j3_11  j3_12  j3_13  j4  j5  j5_plec  j5_1  j5_2  j5_3  j5_4  j6  j6_1  j6_1x  j7_1  j7_2  j7_3  j7_4  j7_5  j7_6  j7_7  j7_8  j8  j9_1  j9_2  j9_3  j9_4  s1s2  s1s2_ile  s1s2_ile_6k  s1  s1_1_1  s1_1_2  s1_2mies  s1_2lat  s1_3  s1_4_isco  s2  s2_1  s2_2_1  s2_2_2  s2_3  s2_3mies  s2_3lat  s2_3dlug  s2_4  s2_5_isco  s2_5_isco_d1  s2_5_isco_d2  s3_ile  s3_01  s3_02  s3_03  s3_04  s3_05  s3_06  s3_07  s3_08  s3_09  s3_10  s4_0  s4_1  s4_2  s4_3  s4_4  s4_5  s4_6  s5  s6_1  s6_2  s6_3  s7  s8  s9_1  s9_2  s9_3  s9_4  s9_5  s10  s11  s12_01  s12_02  s12_03  s12_04  s12_05  s12_06  s12_07  s12_08  s12_09  s12_10  s12_11  s12_12   o1_1   o1_2  o1_3  k01  k02  k03  k04  k05  k06  k07  k08  k09  k10  k11  k12  k13  k14  k15  k16  k17  k18  k19  k20  k21  k22  k23  k24  k25  w1  w2  w3  w3G  w3G_2  w3LO  w3LO_2  w3LO_3  w3Z  w3Z_2  w3Z_4_isco  w3Z_4_isco_d  w3T  w3T_2  w3T_3  w3T_4_isco  w3T_4_isco_d  w3LZ  w3LZ_2  w3LZ_3  w3LZ_4_isco  w3LZ_4_isco_d  w3SP  w3SP_2  w3IN  w3IN_2  w4  w4_1  w5_1_lic  w5_2_inz  w5_3_mgr  w5_4_mgrinz  w5_5_pdp  w5_6_mba  w5_7_dr  isced3a  isced2a  isced1a  isced3b  isced2b  isced1b  w5_1_1x  w5_1_1  isced2_1  isced1_1  w5_2_1  w5_3_1  w5_4_1  w5_5_1  w5_6_1  w5_6_uk1  w5_6_abs1  w5_7_1  w5_1_2x  w5_1_2  isced2_2  isced1_2  w5_2_2  w5_3_2  w5_4_2  w5_5_2  w5_6_2  w5_6_uk2  w5_6_abs2  w5_7_2  w5_1_3x  w5_1_3  isced2_3  isced1_3  w5_2_3  w5_3_3  w5_4_3  w5_5_3  w5_6_3  w5_6_uk3  w5_6_abs3  w5_7_3  w5_1_4x  w5_1_4  isced2_4  isced1_4  w5_2_4  w5_3_4  w5_4_4  w5_5_4  w5_6_4  w5_6_uk4  w5_6_abs4  w5_7_4  w5_1_5x  w5_1_5  isced2_5  isced1_5  w5_2_5  w5_3_5  w5_4_5  w5_5_5  w5_6_5  w5_6_uk5  w5_6_abs5  w5_7_5  w5_1_6x  w5_1_6  isced2_6  isced1_6  w5_2_6  w5_3_6  w5_4_6  w5_5_6  w5_6_6  w5_6_uk6  w5_6_abs6  w5_7_6  w6  w6_1  w6_1_KOD  isced1_w6  w6_2_1x  w6_2_1  isced2_w6_2_1  isced1_w6_2_1  w6_2_2x  w6_2_2  isced2_w6_2_2  isced1_w6_2_2  w6_2_3x  w6_2_3  isced2_w6_2_3  isced1_w6_2_3  w7_01  w7_02  w7_03  w7_04  w7_05  w7_06  w7_07  w7_08  w7_09  w7_10  w7_11  w7_12  w7_1_01  w7_1_02  w7_1_03  w7_1_04  w7_1_05  w7_1_06  w7_1_07  w7_1_08  w7_1_09  w7_1_10  w7_1_11  w7_1_12  w8  w9  w9_1  w9_1p  w9_2  w9_2p  w9_3  w9_3p  w9_4  w9_4p  w9_5  w9_5p  w10  d1_12_1  d1_12_2  d1_12_3  d1_12_4  d1_12_5  d1_12_6  d1_12_7  d1_12_8  d1_4_1  d1_4_2  d1_4_3  d1_4_4  d1_4_5  d1_4_6  d1_4_7  d2_1  d2_2  d2_3  d2_3i  d3_1  d3_2  d3_3  d3_4  d3_5  d3_6  d3_7  d4_12_1  d4_12_2  d4_12_3  d4_12_4  d4_12_5  d4_12_6  d4_12_7  d4_4_1  d4_4_2  d4_4_3  d4_4_4  d4_4_5  d4_4_6  d4_4_7  d5  d6  d7_12_1  d7_12_2  d7_12_3  d7_12_4  d7_12_5  d7_12_6  d7_4_1  d7_4_2  d7_4_3  d7_4_4  d7_4_5  d7_4_6  d8_01  d8_02  d8_03  d8_04  d8_05  d8_06  d8_07  d8_08  d8_09  d8_10  d8_11  d8_12  d8_13  d8_11i   d9  d10_01  d10_02  d10_03  d10_04  d10_05  d10_06  d10_07  d10_08  d10_09  d10_10  d10_11  d10_12  d11  d11_A1  d11_A  d11_B1  d11_B  d11_C1  d11_C  d11_D1  d11_D  d11_BE  d11_C1E  d11_CE  d11_D1E  d11_DE  d11_T  d12_1  d12_2  d12_3  d12_4  d13  z1  z2  hz2_1  z3  z4  z4_1  z4_2  m3_1  m3_2  m3_3  m3_4  m3_5  m3_6  m3_7  m3_8  m3_9  m4_1  m4_2  m5  m5_3k  m5_1_1  m5_1_2  m5_1_3  m5_1_4  m5_1_5  m5_1_6  m5_1_7  m5_1_8  m5_1_9  m5_2  m5_3  m6  m7   m7_1   m7_2  m7_3  m7_4  m7_5  m8  m9_dane     m9    m9d  m9_1  m9_13k  m10_dane    m10   m10d  m10_1  m10_15k  m11  m12  hm13a  m13  m14_01  m14_02  m14_03  m14_04  m14_05  m14_06  m14_07  m14_08  m14_09  m14_10  m14_11  m14_12  m15  test_komp  test_slow  test_mat  a10  a11  ZAWODY_ISCO  p3_isco1  p3_isco2  p3_isco3  p3_isco4  q3_isco1  q3_isco2  q3_isco3  q3_isco4  e10_isco_3k  e10_isco1  e10_isco2  e10_isco3  e10_isco4  e20_1_isco1  e20_1_isco2  e20_1_isco3  e20_1_isco4  f5_isco1  f5_isco2  f5_isco3  f5_isco4  u5_isco1  u5_isco2  u5_isco3  u5_isco4  g8_isco_3k  g8_isco1  g8_isco2  g8_isco3  g8_isco4  j2i_isco1  j2i_isco2  j2i_isco3  j2i_isco4  s2_5_isco1  s2_5_isco2  s2_5_isco3  s2_5_isco4    zawod  zawod1  zawod2  zawod3  zawod4  DOKSZTAŁCANIE  form4t  pform4t1  pform4t2  pform4t  neet  neet2  form12m  pform12m1  pform12m2  pform12m  nform12m  dokszt_all  dokszt_all_bo\n",
            "6590.0 03540-2021    0.374529         0.37938 3732.470588   3780.814881     1.0  2021.0 2021.0 2021-09-20  1415.0 14.0     6.0      2.0         2.0         1415.0        14.0            6.0             2.0 1962.0  59.0       8.0      5.0      4.0      3.0 0.0   PFC          P         0.0         1.0         1.0          0.0           0.0     0.0     3.0        2.0        2.0        1.0     0.0     0.0        NaN   0.0         0.0 1.0     0.0      0.0     1.0      1.5      NaN      NaN      NaN      NaN   1.5         1.0        0.0        0.0 611104.0        NaN   2.0   3.0 1995.0 -7.0 0.0   0.0    0.0   NaN   NaN   NaN   NaN 3.0 1.0   2.0    0.0      NaN   3.0    0.0      NaN     -1.0      NaN      NaN      NaN      NaN      NaN      NaN      NaN      NaN      NaN      NaN      NaN      NaN      NaN      NaN      NaN       NaN       NaN      1.0      NaN      0.0      0.0      NaN      0.0      0.0      0.0      0.0      NaN      NaN      1.0      0.0      NaN      NaN      0.0       NaN      11.0  NaN  3.0  2.0    -1.0  2.0    -8.0 -1.0     NaN      NaN NaN NaN NaN NaN   -1.0    NaN    NaN    NaN    NaN    NaN    NaN    NaN    NaN    NaN    NaN    NaN    NaN    NaN    NaN    NaN     NaN     NaN -8.0 0.0    0.0   NaN    0.0 NaN   NaN   NaN NaN NaN    NaN    NaN    NaN    NaN    NaN    NaN    NaN    NaN    NaN    NaN    NaN     NaN     NaN     NaN     NaN     NaN     NaN    -1.0     NaN     NaN     NaN     NaN     NaN NaN NaN NaN -1.0   NaN    NaN    NaN       NaN       NaN         NaN  NaN  NaN   -1.0    -1.0   -1.0    -1.0   -1.0    -1.0       NaN  NaN    NaN    NaN    NaN    NaN    NaN    NaN  NaN   NaN  -1.0  -1.0  NaN  NaN  NaN     NaN     NaN     NaN     NaN     NaN     NaN     NaN     NaN     NaN     NaN     NaN     NaN     NaN     NaN     NaN     NaN      NaN  NaN    NaN         NaN           NaN  NaN  NaN  NaN     NaN  NaN  NaN  NaN  NaN  NaN   NaN   NaN 1.0 1981.0 1995.0    0.0    0.0    1.0    0.0    0.0    0.0    0.0    0.0    0.0    0.0    0.0    0.0    0.0    0.0    0.0     NaN   -1.0 722206.0        NaN NaN NaN 0.0 NaN  0.0     0.0 NaN    NaN   NaN    NaN   NaN   NaN   NaN   NaN      NaN        NaN NaN NaN NaN 0.0     NaN      NaN    NaN    NaN    NaN    NaN    NaN    NaN    NaN    NaN    NaN    NaN    NaN    NaN    NaN    NaN    NaN    NaN    NaN NaN  0.0 NaN  NaN NaN    NaN    NaN    NaN    NaN    NaN    NaN    NaN    NaN    NaN    NaN    NaN NaN  NaN  NaN  NaN    NaN  NaN  NaN 1.0 2.0 0.0 NaN NaN NaN NaN   0.0   0.0   0.0   0.0   0.0   0.0 0.0 0.0   0.0   NaN 1.0 1.0  40.0   0.0   NaN      0.0         NaN      -1.0     -1.0 0.0   NaN   NaN   2.0   1.0 39.0 1980.0     723310.0  10.0 65.0 -8.0  67.0   NaN NaN 1.0  1.5 611104.0      NaN      NaN      NaN    4.0    4.0    4.0    4.0    NaN    4.0    NaN    4.0    NaN    4.0 2.0  833203.0         NaN    4.0    4.0    NaN    3.0    4.0    2.0    2.0    5.0    1.0    2.0    4.0    4.0    4.0 3.0 0.0      NaN   NaN   NaN   NaN   NaN 0.0   0.0    0.0   6.0   5.0   4.0   4.0   6.0   6.0   6.0   4.0 1.0   3.0   4.0   2.0   2.0   0.0       NaN          NaN 0.0     NaN     NaN      -1.0     -1.0   NaN        NaN NaN   NaN     NaN     NaN   NaN       NaN      NaN       0.0  -1.0        NaN           NaN           NaN     0.0    NaN    NaN    NaN    NaN    NaN    NaN    NaN    NaN    NaN    NaN  -1.0   NaN   NaN   NaN   NaN   NaN   NaN NaN   NaN   NaN   NaN NaN NaN   NaN   NaN   NaN   NaN   NaN  NaN  NaN     NaN     NaN     NaN     NaN     NaN     NaN     NaN     NaN     NaN     NaN     NaN     NaN 5000.0 6000.0  -7.0  2.0  3.0  2.0  2.0  3.0  3.0  3.0  2.0  1.0  3.0  3.0  4.0  3.0  4.0  4.0  4.0  4.0  3.0  1.0  1.0  2.0  4.0  2.0  1.0  3.0 0.0 1.0 1.0  0.0    NaN   0.0     NaN     NaN  1.0    1.0    722204.0         723.0  1.0    2.0    NaN    832201.0           NaN   0.0     NaN     NaN          NaN            NaN   0.0     NaN   0.0     NaN NaN   NaN       0.0       0.0       0.0          0.0       0.0       0.0      0.0      NaN      NaN      NaN      NaN      NaN      NaN      NaN     NaN       NaN       NaN     NaN     NaN     NaN     NaN     NaN       NaN        NaN     NaN      NaN     NaN       NaN       NaN     NaN     NaN     NaN     NaN     NaN       NaN        NaN     NaN      NaN     NaN       NaN       NaN     NaN     NaN     NaN     NaN     NaN       NaN        NaN     NaN      NaN     NaN       NaN       NaN     NaN     NaN     NaN     NaN     NaN       NaN        NaN     NaN      NaN     NaN       NaN       NaN     NaN     NaN     NaN     NaN    -1.0       NaN        NaN    -1.0      NaN     NaN       NaN       NaN     NaN     NaN     NaN     NaN     NaN       NaN        NaN     NaN NaN   NaN       NaN        NaN      NaN     NaN            NaN            NaN      NaN     NaN            NaN            NaN      NaN     NaN            NaN            NaN    0.0    0.0    0.0    0.0    0.0    0.0    0.0    0.0    0.0    0.0    0.0    1.0      0.0      0.0      0.0      0.0      0.0      0.0      0.0      0.0      0.0      0.0      0.0      1.0 2.0 1.0   2.0    1.0   NaN    NaN   NaN    NaN   NaN    NaN   NaN    NaN  1.0      0.0      0.0      0.0      0.0      0.0      0.0      0.0      1.0     0.0     0.0     0.0     0.0     0.0     0.0     0.0   NaN   NaN   NaN    NaN   NaN   NaN   NaN   NaN   NaN   NaN   NaN      0.0      0.0      0.0      0.0      0.0      0.0      1.0     0.0     0.0     0.0     0.0     0.0     0.0    -1.0 NaN 0.0      0.0      0.0      0.0      0.0      0.0      1.0     0.0     0.0     0.0     0.0     0.0    -1.0    1.0    0.0    0.0    0.0    0.0    1.0    0.0    0.0    0.0    0.0    0.0    0.0    0.0     NaN -8.0     1.0     0.0     0.0     1.0     0.0     1.0     0.0     0.0     0.0     0.0     0.0     0.0  1.0     0.0    1.0     0.0    1.0     0.0    0.0     0.0    0.0     0.0      0.0     0.0      0.0     0.0    1.0    0.0    0.0    0.0    0.0  0.0 3.0 4.0   -1.0 2.0 0.0   0.0   NaN   1.0   0.0   0.0   0.0   0.0   0.0   0.0   0.0   0.0   2.0   2.0 1.0    2.0     1.0     0.0     0.0     0.0     0.0     0.0     0.0     0.0     0.0   7.0   NaN 1.0 2.0 1993.0 1995.0   0.0  -1.0  -1.0 3.0      1.0 2500.0 2500.0   NaN     6.0       1.0 6000.0 6000.0    NaN     11.0  2.0  2.0    2.0  3.0     0.0     0.0     0.0     0.0     0.0     0.0     0.0     0.0     0.0     0.0     1.0     0.0  NaN        NaN        NaN       4.0  NaN  NaN          NaN       NaN      61.0     611.0    6111.0       NaN       NaN       NaN       NaN          NaN        NaN        NaN        NaN        NaN          NaN          NaN          NaN          NaN       7.0      72.0     722.0    7222.0       NaN       NaN       NaN       NaN         3.0       6.0      61.0     611.0    6111.0        8.0       83.0      833.0     8332.0         NaN         NaN         NaN         NaN 611104.0     NaN    61.0   611.0  6111.0            NaN     0.0       0.0       0.0      0.0   0.0    0.0      0.0        0.0        0.0       0.0       1.0         1.0            1.0\n"
          ]
        }
      ],
      "source": [
        "# prompt: show me row number 0 in vertical column. Nie skracaj kolumny przez 3 kropki- pokaż całość\n",
        "\n",
        "print(df_L.iloc[[0]].to_string(index=False))\n"
      ]
    },
    {
      "cell_type": "code",
      "execution_count": 7,
      "metadata": {
        "colab": {
          "base_uri": "https://localhost:8080/"
        },
        "id": "vUWdW25OL3ds",
        "outputId": "824a5b60-b2e4-4e29-9d82-bdcdd192f334"
      },
      "outputs": [
        {
          "output_type": "stream",
          "name": "stdout",
          "text": [
            "['id', 'intid', 'waga_proba', 'waga_proba_kor', 'waga_pop', 'waga_pop_kor', 'rodzaj', 'edycja', 'rok', 'datawyw', 'powiat', 'woj', 'region', 'miejsce', 'miejsce_4k', 'powiat_operat', 'woj_operat', 'region_operat', 'miejsce_operat', 'm1', 'wiek', 'wiek_10k', 'wiek_6k', 'wiek_4k', 'wiek_3k', 'm2', 'prace', 'praceteraz', 'BAEL_bezro', 'BAEL_praca', 'BAEL_aktyw', 'BAEL_sytzaw', 'BAEL_sytzaw2', 'bezrej', 'wykszt', 'wykszt_7k', 'wykszt_4k', 'wykszt_3k', 'matura', 'wyzsze', 'najwyzsze', 'uczy', 'uczy_gdzie', 'p1', 'p1_typ', 'p1_nrol', 'p1_rol', 'p2_pkd1', 'p2_pkd2', 'p2_pkd3', 'p2_pkd4', 'p2_pkd5', 'p2_1', 'p2_pkd_21k', 'p2_pkd_6k', 'p2_pkd_4k', 'p3_isco', 'p3_isco_d', 'p3_1', 'p3_2', 'p4', 'p5', 'p6', 'p6_1', 'p6_1x', 'p7_1', 'p7_2', 'p7_3', 'p7_4', 'p8', 'p9', 'p9_1', 'p9_1x', 'hp9_1_1', 'p9_2', 'p9_2x', 'hp9_2_1', 'p10a_00', 'p10a_01', 'p10a_02', 'p10a_03', 'p10a_04', 'p10a_05', 'p10a_06', 'p10a_07', 'p10a_08', 'p10a_09', 'p10a_10', 'p10a_11', 'p10a_12', 'p10a_13', 'p10a_14', 'p10a_15', 'p10a_15i', 'p10a_naj', 'p10b_00', 'p10b_01', 'p10b_02', 'p10b_03', 'p10b_04', 'p10b_05', 'p10b_06', 'p10b_07', 'p10b_08', 'p10b_09', 'p10b_10', 'p10b_11', 'p10b_12', 'p10b_13', 'p10b_14', 'p10b_15', 'p10b_15i', 'p10b_naj', 'p11', 'p12', 'p13', 'hp13_1', 'p14', 'hp14_1', 'q1', 'q2_pkd', 'q3_isco', 'q4', 'q5', 'q6', 'q7', 'q8_00', 'q8_01', 'q8_02', 'q8_03', 'q8_04', 'q8_05', 'q8_06', 'q8_07', 'q8_08', 'q8_09', 'q8_10', 'q8_11', 'q8_12', 'q8_13', 'q8_14', 'q8_15', 'q8_15i', 'q8_naj', 'q9', 'e1', 'e1_3m', 'e1_1', 'e1_1x', 'e2', 'e2_1', 'e2_2', 'e3', 'e4', 'e5_01', 'e5_02', 'e5_03', 'e5_04', 'e5_05', 'e5_06', 'e5_07', 'e5_08', 'e5_09', 'e5_10', 'e5_11', 'e5_1_1', 'e5_1_2', 'e5_1_3', 'e5_1_4', 'e5_1_5', 'e5_1_6', 'e5_2_0', 'e5_2_1', 'e5_2_2', 'e5_2_3', 'e5_2_4', 'e5_2_5', 'e6', 'e7', 'e8', 'e9', 'e9_1', 'e9_2m', 'e9_2r', 'e9_2ilem', 'e10_isco', 'e10_isco_d', 'e11', 'e12', 'he12a', 'he12a1', 'he12b', 'he12b1', 'he12c', 'he12c1', 'e13_kier', 'e13', 'e13_1', 'e13_2', 'e14_1', 'e14_2', 'e14_3', 'e14_4', 'e15', 'e15w', 'e15L', 'e15M', 'e16', 'e17', 'e18', 'e19_01', 'e19_02', 'e19_03', 'e19_04', 'e19_05', 'e19_06', 'e19_07', 'e19_08', 'e19_09', 'e19_10', 'e19_11', 'e19_12', 'e19_13', 'e19_14', 'e19_15', 'e19_16', 'e19_15i', 'e20', 'e20_1', 'e20_1_isco', 'e20_1_isco_d', 'e21', 'e22', 'e23', 'he23_1', 'e24', 'e25', 'e26', 'e27', 'ee1', 'ee2L', 'ee2M', 'f1', 'f2', 'f3', 'f4_01', 'f4_02', 'f4_03', 'f4_04', 'f4_05', 'f4_06', 'f4_07', 'f4_08', 'f4_09', 'f4_10', 'f4_11', 'f4_12', 'f4_13', 'f4_14', 'f4_15', 'f4_15i', 'hf4_1', 'f5_isco', 'f5_isco_d', 'f6', 'f7', 'u1', 'u2', 'u2x', 'u2x_gl', 'u3', 'u3_5k', 'u3_1', 'u3_1x', 'u3_2', 'u4_1', 'u4_2', 'u4_3', 'u5_isco', 'u5_isco_d', 'u6', 'u7', 'u8', 'n1', 'n2_dni', 'n2_mies', 'n3_01', 'n3_02', 'n3_03', 'n3_04', 'n4_01', 'n4_02', 'n4_03', 'n4_04', 'n4_05', 'n4_06', 'n4_07', 'n4_08', 'n4_09', 'n4_10', 'n4_11', 'n4_12', 'n4_13', 'n5', 'n5x', 'n6', 'n6x', 'n7', 'n8_01', 'n8_02', 'n8_03', 'n8_04', 'n8_05', 'n8_06', 'n8_07', 'n8_08', 'n8_09', 'n8_10', 'n8_11', 'n9', 'n10', 'n11', 'n12', 'n12_1', 'n13', 'n14', 'c1', 'c2', 'x1', 'x2', 'x3', 'x4', 'x5', 'v1_1', 'v1_2', 'v1_3', 'v1_4', 'v1_5', 'v1_6', 'v2', 'y1', 'y1_1', 'y1_2', 'y2', 'g1', 'g1_1', 'g1_2', 'g1_3', 'g1_4ile', 'g1_4ile_8k', 'g1_4mies', 'g1_4lat', 'g2', 'g2_1', 'g2_2', 'g2_3', 'g2_4', 'g3', 'g3_1', 'g3_1_1_isco', 'g3_2', 'g4', 'g5', 'g6_1', 'g6_2', 'g7', 'g8', 'g8x', 'g8_isco', 'g9_pkd1', 'g9_pkd2', 'g9_pkd3', 'j1_01', 'j1_02', 'j1_03', 'j1_04', 'j1_05', 'j1_06', 'j1_07', 'j1_08', 'j1_09', 'j1_10', 'j2', 'j2i_isco', 'j2i_isco_d', 'j3_01', 'j3_02', 'j3_03', 'j3_04', 'j3_05', 'j3_06', 'j3_07', 'j3_08', 'j3_09', 'j3_10', 'j3_11', 'j3_12', 'j3_13', 'j4', 'j5', 'j5_plec', 'j5_1', 'j5_2', 'j5_3', 'j5_4', 'j6', 'j6_1', 'j6_1x', 'j7_1', 'j7_2', 'j7_3', 'j7_4', 'j7_5', 'j7_6', 'j7_7', 'j7_8', 'j8', 'j9_1', 'j9_2', 'j9_3', 'j9_4', 's1s2', 's1s2_ile', 's1s2_ile_6k', 's1', 's1_1_1', 's1_1_2', 's1_2mies', 's1_2lat', 's1_3', 's1_4_isco', 's2', 's2_1', 's2_2_1', 's2_2_2', 's2_3', 's2_3mies', 's2_3lat', 's2_3dlug', 's2_4', 's2_5_isco', 's2_5_isco_d1', 's2_5_isco_d2', 's3_ile', 's3_01', 's3_02', 's3_03', 's3_04', 's3_05', 's3_06', 's3_07', 's3_08', 's3_09', 's3_10', 's4_0', 's4_1', 's4_2', 's4_3', 's4_4', 's4_5', 's4_6', 's5', 's6_1', 's6_2', 's6_3', 's7', 's8', 's9_1', 's9_2', 's9_3', 's9_4', 's9_5', 's10', 's11', 's12_01', 's12_02', 's12_03', 's12_04', 's12_05', 's12_06', 's12_07', 's12_08', 's12_09', 's12_10', 's12_11', 's12_12', 'o1_1', 'o1_2', 'o1_3', 'k01', 'k02', 'k03', 'k04', 'k05', 'k06', 'k07', 'k08', 'k09', 'k10', 'k11', 'k12', 'k13', 'k14', 'k15', 'k16', 'k17', 'k18', 'k19', 'k20', 'k21', 'k22', 'k23', 'k24', 'k25', 'w1', 'w2', 'w3', 'w3G', 'w3G_2', 'w3LO', 'w3LO_2', 'w3LO_3', 'w3Z', 'w3Z_2', 'w3Z_4_isco', 'w3Z_4_isco_d', 'w3T', 'w3T_2', 'w3T_3', 'w3T_4_isco', 'w3T_4_isco_d', 'w3LZ', 'w3LZ_2', 'w3LZ_3', 'w3LZ_4_isco', 'w3LZ_4_isco_d', 'w3SP', 'w3SP_2', 'w3IN', 'w3IN_2', 'w4', 'w4_1', 'w5_1_lic', 'w5_2_inz', 'w5_3_mgr', 'w5_4_mgrinz', 'w5_5_pdp', 'w5_6_mba', 'w5_7_dr', 'isced3a', 'isced2a', 'isced1a', 'isced3b', 'isced2b', 'isced1b', 'w5_1_1x', 'w5_1_1', 'isced2_1', 'isced1_1', 'w5_2_1', 'w5_3_1', 'w5_4_1', 'w5_5_1', 'w5_6_1', 'w5_6_uk1', 'w5_6_abs1', 'w5_7_1', 'w5_1_2x', 'w5_1_2', 'isced2_2', 'isced1_2', 'w5_2_2', 'w5_3_2', 'w5_4_2', 'w5_5_2', 'w5_6_2', 'w5_6_uk2', 'w5_6_abs2', 'w5_7_2', 'w5_1_3x', 'w5_1_3', 'isced2_3', 'isced1_3', 'w5_2_3', 'w5_3_3', 'w5_4_3', 'w5_5_3', 'w5_6_3', 'w5_6_uk3', 'w5_6_abs3', 'w5_7_3', 'w5_1_4x', 'w5_1_4', 'isced2_4', 'isced1_4', 'w5_2_4', 'w5_3_4', 'w5_4_4', 'w5_5_4', 'w5_6_4', 'w5_6_uk4', 'w5_6_abs4', 'w5_7_4', 'w5_1_5x', 'w5_1_5', 'isced2_5', 'isced1_5', 'w5_2_5', 'w5_3_5', 'w5_4_5', 'w5_5_5', 'w5_6_5', 'w5_6_uk5', 'w5_6_abs5', 'w5_7_5', 'w5_1_6x', 'w5_1_6', 'isced2_6', 'isced1_6', 'w5_2_6', 'w5_3_6', 'w5_4_6', 'w5_5_6', 'w5_6_6', 'w5_6_uk6', 'w5_6_abs6', 'w5_7_6', 'w6', 'w6_1', 'w6_1_KOD', 'isced1_w6', 'w6_2_1x', 'w6_2_1', 'isced2_w6_2_1', 'isced1_w6_2_1', 'w6_2_2x', 'w6_2_2', 'isced2_w6_2_2', 'isced1_w6_2_2', 'w6_2_3x', 'w6_2_3', 'isced2_w6_2_3', 'isced1_w6_2_3', 'w7_01', 'w7_02', 'w7_03', 'w7_04', 'w7_05', 'w7_06', 'w7_07', 'w7_08', 'w7_09', 'w7_10', 'w7_11', 'w7_12', 'w7_1_01', 'w7_1_02', 'w7_1_03', 'w7_1_04', 'w7_1_05', 'w7_1_06', 'w7_1_07', 'w7_1_08', 'w7_1_09', 'w7_1_10', 'w7_1_11', 'w7_1_12', 'w8', 'w9', 'w9_1', 'w9_1p', 'w9_2', 'w9_2p', 'w9_3', 'w9_3p', 'w9_4', 'w9_4p', 'w9_5', 'w9_5p', 'w10', 'd1_12_1', 'd1_12_2', 'd1_12_3', 'd1_12_4', 'd1_12_5', 'd1_12_6', 'd1_12_7', 'd1_12_8', 'd1_4_1', 'd1_4_2', 'd1_4_3', 'd1_4_4', 'd1_4_5', 'd1_4_6', 'd1_4_7', 'd2_1', 'd2_2', 'd2_3', 'd2_3i', 'd3_1', 'd3_2', 'd3_3', 'd3_4', 'd3_5', 'd3_6', 'd3_7', 'd4_12_1', 'd4_12_2', 'd4_12_3', 'd4_12_4', 'd4_12_5', 'd4_12_6', 'd4_12_7', 'd4_4_1', 'd4_4_2', 'd4_4_3', 'd4_4_4', 'd4_4_5', 'd4_4_6', 'd4_4_7', 'd5', 'd6', 'd7_12_1', 'd7_12_2', 'd7_12_3', 'd7_12_4', 'd7_12_5', 'd7_12_6', 'd7_4_1', 'd7_4_2', 'd7_4_3', 'd7_4_4', 'd7_4_5', 'd7_4_6', 'd8_01', 'd8_02', 'd8_03', 'd8_04', 'd8_05', 'd8_06', 'd8_07', 'd8_08', 'd8_09', 'd8_10', 'd8_11', 'd8_12', 'd8_13', 'd8_11i', 'd9', 'd10_01', 'd10_02', 'd10_03', 'd10_04', 'd10_05', 'd10_06', 'd10_07', 'd10_08', 'd10_09', 'd10_10', 'd10_11', 'd10_12', 'd11', 'd11_A1', 'd11_A', 'd11_B1', 'd11_B', 'd11_C1', 'd11_C', 'd11_D1', 'd11_D', 'd11_BE', 'd11_C1E', 'd11_CE', 'd11_D1E', 'd11_DE', 'd11_T', 'd12_1', 'd12_2', 'd12_3', 'd12_4', 'd13', 'z1', 'z2', 'hz2_1', 'z3', 'z4', 'z4_1', 'z4_2', 'm3_1', 'm3_2', 'm3_3', 'm3_4', 'm3_5', 'm3_6', 'm3_7', 'm3_8', 'm3_9', 'm4_1', 'm4_2', 'm5', 'm5_3k', 'm5_1_1', 'm5_1_2', 'm5_1_3', 'm5_1_4', 'm5_1_5', 'm5_1_6', 'm5_1_7', 'm5_1_8', 'm5_1_9', 'm5_2', 'm5_3', 'm6', 'm7', 'm7_1', 'm7_2', 'm7_3', 'm7_4', 'm7_5', 'm8', 'm9_dane', 'm9', 'm9d', 'm9_1', 'm9_13k', 'm10_dane', 'm10', 'm10d', 'm10_1', 'm10_15k', 'm11', 'm12', 'hm13a', 'm13', 'm14_01', 'm14_02', 'm14_03', 'm14_04', 'm14_05', 'm14_06', 'm14_07', 'm14_08', 'm14_09', 'm14_10', 'm14_11', 'm14_12', 'm15', 'test_komp', 'test_slow', 'test_mat', 'a10', 'a11', 'ZAWODY_ISCO', 'p3_isco1', 'p3_isco2', 'p3_isco3', 'p3_isco4', 'q3_isco1', 'q3_isco2', 'q3_isco3', 'q3_isco4', 'e10_isco_3k', 'e10_isco1', 'e10_isco2', 'e10_isco3', 'e10_isco4', 'e20_1_isco1', 'e20_1_isco2', 'e20_1_isco3', 'e20_1_isco4', 'f5_isco1', 'f5_isco2', 'f5_isco3', 'f5_isco4', 'u5_isco1', 'u5_isco2', 'u5_isco3', 'u5_isco4', 'g8_isco_3k', 'g8_isco1', 'g8_isco2', 'g8_isco3', 'g8_isco4', 'j2i_isco1', 'j2i_isco2', 'j2i_isco3', 'j2i_isco4', 's2_5_isco1', 's2_5_isco2', 's2_5_isco3', 's2_5_isco4', 'zawod', 'zawod1', 'zawod2', 'zawod3', 'zawod4', 'DOKSZTAŁCANIE', 'form4t', 'pform4t1', 'pform4t2', 'pform4t', 'neet', 'neet2', 'form12m', 'pform12m1', 'pform12m2', 'pform12m', 'nform12m', 'dokszt_all', 'dokszt_all_bo']\n"
          ]
        }
      ],
      "source": [
        "headers = list(df_L.columns)\n",
        "print(headers)"
      ]
    },
    {
      "cell_type": "markdown",
      "metadata": {
        "id": "humzcQQMsQKU"
      },
      "source": [
        "# 3 Duplikacja i \"ważenie\" bazy danych"
      ]
    },
    {
      "cell_type": "markdown",
      "metadata": {
        "id": "Pwe4xYcQmRWK"
      },
      "source": [
        "## Duplikowanie bazy"
      ]
    },
    {
      "cell_type": "code",
      "execution_count": 21,
      "metadata": {
        "id": "NYOlN-yRiHHp"
      },
      "outputs": [],
      "source": [
        "# prompt: create a copy of df_L\n",
        "df_L1 = df_L.copy()\n",
        "# df_P1 = df_P.copy()"
      ]
    },
    {
      "cell_type": "markdown",
      "metadata": {
        "id": "SiInhM8rsb2X"
      },
      "source": [
        "## \"Ważenie\" zmiennych"
      ]
    },
    {
      "cell_type": "code",
      "execution_count": 19,
      "metadata": {
        "id": "kYDyR9fItDRM"
      },
      "outputs": [],
      "source": [
        "#TBD"
      ]
    },
    {
      "cell_type": "markdown",
      "metadata": {
        "id": "0l_huY7ZMUM9"
      },
      "source": []
    },
    {
      "cell_type": "markdown",
      "metadata": {
        "id": "MNlYMtJtMsQm"
      },
      "source": [
        "# 4 Zapoznanie się z danymi"
      ]
    },
    {
      "cell_type": "markdown",
      "metadata": {
        "id": "PGQEjXa_28IG"
      },
      "source": [
        "## Podgląd przykładowych zmiennych"
      ]
    },
    {
      "cell_type": "markdown",
      "metadata": {
        "id": "dXbLgVb94gza"
      },
      "source": [
        "Jak zobaczyć wartości które przyjmuje dana zmienna i jak są kodowane?"
      ]
    },
    {
      "cell_type": "code",
      "source": [
        "# kilka pierwszych lub ostatnich wartości danej zmiennej można obejrzeć w ten sposób:\n",
        "df_L1['edycja'].head(10)"
      ],
      "metadata": {
        "id": "_Ih2Uss3ieH7",
        "colab": {
          "base_uri": "https://localhost:8080/",
          "height": 397
        },
        "collapsed": true,
        "outputId": "e0677ea8-0f2c-459c-bc8b-6dbf8d638e82"
      },
      "execution_count": 71,
      "outputs": [
        {
          "output_type": "execute_result",
          "data": {
            "text/plain": [
              "0    2021.0\n",
              "1    2021.0\n",
              "2    2021.0\n",
              "3    2021.0\n",
              "4    2021.0\n",
              "5    2021.0\n",
              "6    2021.0\n",
              "7    2021.0\n",
              "8    2021.0\n",
              "9    2021.0\n",
              "Name: edycja, dtype: float64"
            ],
            "text/html": [
              "<div>\n",
              "<style scoped>\n",
              "    .dataframe tbody tr th:only-of-type {\n",
              "        vertical-align: middle;\n",
              "    }\n",
              "\n",
              "    .dataframe tbody tr th {\n",
              "        vertical-align: top;\n",
              "    }\n",
              "\n",
              "    .dataframe thead th {\n",
              "        text-align: right;\n",
              "    }\n",
              "</style>\n",
              "<table border=\"1\" class=\"dataframe\">\n",
              "  <thead>\n",
              "    <tr style=\"text-align: right;\">\n",
              "      <th></th>\n",
              "      <th>edycja</th>\n",
              "    </tr>\n",
              "  </thead>\n",
              "  <tbody>\n",
              "    <tr>\n",
              "      <th>0</th>\n",
              "      <td>2021.0</td>\n",
              "    </tr>\n",
              "    <tr>\n",
              "      <th>1</th>\n",
              "      <td>2021.0</td>\n",
              "    </tr>\n",
              "    <tr>\n",
              "      <th>2</th>\n",
              "      <td>2021.0</td>\n",
              "    </tr>\n",
              "    <tr>\n",
              "      <th>3</th>\n",
              "      <td>2021.0</td>\n",
              "    </tr>\n",
              "    <tr>\n",
              "      <th>4</th>\n",
              "      <td>2021.0</td>\n",
              "    </tr>\n",
              "    <tr>\n",
              "      <th>5</th>\n",
              "      <td>2021.0</td>\n",
              "    </tr>\n",
              "    <tr>\n",
              "      <th>6</th>\n",
              "      <td>2021.0</td>\n",
              "    </tr>\n",
              "    <tr>\n",
              "      <th>7</th>\n",
              "      <td>2021.0</td>\n",
              "    </tr>\n",
              "    <tr>\n",
              "      <th>8</th>\n",
              "      <td>2021.0</td>\n",
              "    </tr>\n",
              "    <tr>\n",
              "      <th>9</th>\n",
              "      <td>2021.0</td>\n",
              "    </tr>\n",
              "  </tbody>\n",
              "</table>\n",
              "</div><br><label><b>dtype:</b> float64</label>"
            ]
          },
          "metadata": {},
          "execution_count": 71
        }
      ]
    },
    {
      "cell_type": "code",
      "source": [
        "df_L1['id'].head()"
      ],
      "metadata": {
        "colab": {
          "base_uri": "https://localhost:8080/",
          "height": 240
        },
        "collapsed": true,
        "id": "cWYSpSKIPo7P",
        "outputId": "d9993157-51dd-4354-cfbf-e81e799c9d3f"
      },
      "execution_count": 72,
      "outputs": [
        {
          "output_type": "execute_result",
          "data": {
            "text/plain": [
              "0    6590.0\n",
              "1    6591.0\n",
              "2    6592.0\n",
              "3    6593.0\n",
              "4    6594.0\n",
              "Name: id, dtype: float64"
            ],
            "text/html": [
              "<div>\n",
              "<style scoped>\n",
              "    .dataframe tbody tr th:only-of-type {\n",
              "        vertical-align: middle;\n",
              "    }\n",
              "\n",
              "    .dataframe tbody tr th {\n",
              "        vertical-align: top;\n",
              "    }\n",
              "\n",
              "    .dataframe thead th {\n",
              "        text-align: right;\n",
              "    }\n",
              "</style>\n",
              "<table border=\"1\" class=\"dataframe\">\n",
              "  <thead>\n",
              "    <tr style=\"text-align: right;\">\n",
              "      <th></th>\n",
              "      <th>id</th>\n",
              "    </tr>\n",
              "  </thead>\n",
              "  <tbody>\n",
              "    <tr>\n",
              "      <th>0</th>\n",
              "      <td>6590.0</td>\n",
              "    </tr>\n",
              "    <tr>\n",
              "      <th>1</th>\n",
              "      <td>6591.0</td>\n",
              "    </tr>\n",
              "    <tr>\n",
              "      <th>2</th>\n",
              "      <td>6592.0</td>\n",
              "    </tr>\n",
              "    <tr>\n",
              "      <th>3</th>\n",
              "      <td>6593.0</td>\n",
              "    </tr>\n",
              "    <tr>\n",
              "      <th>4</th>\n",
              "      <td>6594.0</td>\n",
              "    </tr>\n",
              "  </tbody>\n",
              "</table>\n",
              "</div><br><label><b>dtype:</b> float64</label>"
            ]
          },
          "metadata": {},
          "execution_count": 72
        }
      ]
    },
    {
      "cell_type": "code",
      "source": [
        "# Display basic summary statistics of the DataFrame\n",
        "print(df_L.info())\n",
        "print(df_L.describe())\n"
      ],
      "metadata": {
        "colab": {
          "base_uri": "https://localhost:8080/"
        },
        "id": "zUn1VnWpH_nV",
        "outputId": "7a0c0d02-d964-416a-ca4d-067d9c0f882e"
      },
      "execution_count": 30,
      "outputs": [
        {
          "output_type": "stream",
          "name": "stdout",
          "text": [
            "<class 'pandas.core.frame.DataFrame'>\n",
            "RangeIndex: 2529 entries, 0 to 2528\n",
            "Columns: 910 entries, id to dokszt_all_bo\n",
            "dtypes: float64(906), object(4)\n",
            "memory usage: 17.6+ MB\n",
            "None\n",
            "                id   waga_proba  waga_proba_kor      waga_pop  waga_pop_kor  \\\n",
            "count  2529.000000  2529.000000     2529.000000   2529.000000   2529.000000   \n",
            "mean   7854.000000     1.000000        1.000000   9965.778964   9965.778964   \n",
            "std     730.203739     0.446621        0.414533   4450.930974   4131.146452   \n",
            "min    6590.000000     0.253951        0.257240   2530.815789   2563.595820   \n",
            "25%    7222.000000     0.733557        0.743058   7310.466667   7405.154444   \n",
            "50%    7854.000000     0.906111        0.917848   9030.105263   9147.066414   \n",
            "75%    8486.000000     1.223727        1.239577  12195.388889  12353.347924   \n",
            "max    9118.000000     2.835938        2.003588  28262.333333  19967.316869   \n",
            "\n",
            "            rodzaj  edycja          rok       powiat          woj  ...  \\\n",
            "count  2529.000000  2529.0  2529.000000  2529.000000  2529.000000  ...   \n",
            "mean      2.256623  2021.0  2021.377224  1688.760380    16.661922  ...   \n",
            "std       0.621494     0.0     0.484788   871.789594     8.713621  ...   \n",
            "min       1.000000  2021.0  2021.000000     0.000000     0.000000  ...   \n",
            "25%       2.000000  2021.0  2021.000000  1019.000000    10.000000  ...   \n",
            "50%       2.000000  2021.0  2021.000000  1465.000000    14.000000  ...   \n",
            "75%       3.000000  2021.0  2022.000000  2413.000000    24.000000  ...   \n",
            "max       3.000000  2021.0  2022.000000  3262.000000    32.000000  ...   \n",
            "\n",
            "           pform4t         neet        neet2      form12m    pform12m1  \\\n",
            "count  2529.000000  2529.000000  2529.000000  2529.000000  2529.000000   \n",
            "mean      0.277580     0.297746     0.284698     0.122578     0.441677   \n",
            "std       0.447894     0.457358     0.451359     0.328017     0.496685   \n",
            "min       0.000000     0.000000     0.000000     0.000000     0.000000   \n",
            "25%       0.000000     0.000000     0.000000     0.000000     0.000000   \n",
            "50%       0.000000     0.000000     0.000000     0.000000     0.000000   \n",
            "75%       1.000000     1.000000     1.000000     0.000000     1.000000   \n",
            "max       1.000000     1.000000     1.000000     1.000000     1.000000   \n",
            "\n",
            "         pform12m2     pform12m     nform12m   dokszt_all  dokszt_all_bo  \n",
            "count  2529.000000  2529.000000  2529.000000  2529.000000    2529.000000  \n",
            "mean      0.218664     0.495453     0.691973     0.791617       0.767497  \n",
            "std       0.413422     0.500078     0.461769     0.406232       0.422511  \n",
            "min       0.000000     0.000000     0.000000     0.000000       0.000000  \n",
            "25%       0.000000     0.000000     0.000000     1.000000       1.000000  \n",
            "50%       0.000000     0.000000     1.000000     1.000000       1.000000  \n",
            "75%       0.000000     1.000000     1.000000     1.000000       1.000000  \n",
            "max       1.000000     1.000000     1.000000     1.000000       1.000000  \n",
            "\n",
            "[8 rows x 906 columns]\n"
          ]
        }
      ]
    },
    {
      "cell_type": "markdown",
      "source": [
        "### Metryczka"
      ],
      "metadata": {
        "id": "SkHFPCjQq8xC"
      }
    },
    {
      "cell_type": "code",
      "execution_count": 22,
      "metadata": {
        "colab": {
          "base_uri": "https://localhost:8080/"
        },
        "id": "FvK7El0K5KFY",
        "outputId": "6afcdecf-0861-40d4-8039-3e86e1a8e4a3"
      },
      "outputs": [
        {
          "output_type": "stream",
          "name": "stdout",
          "text": [
            "1.0: Centralny (łódz/śwkrz)\n",
            "2.0: Północno-Zachodni (lubus/wlkp/zachpom)\n",
            "3.0: Północny (kuj-pom/pom/warm-maz)\n",
            "4.0: Południowo-Zachodni (dlnśl/opol)\n",
            "5.0: Południowy (małop/śl)\n",
            "6.0: Woj. mazowieckie\n",
            "7.0: Wschodni (lubel/podkarp/podl)\n"
          ]
        }
      ],
      "source": [
        "# prompt: show variable_value_labels for variable \"region\"\n",
        "\n",
        "for key, value in meta.variable_value_labels['region'].items():\n",
        "    print(f\"{key}: {value}\")\n"
      ]
    },
    {
      "cell_type": "code",
      "execution_count": 12,
      "metadata": {
        "id": "pf7KZxd5NXWh",
        "colab": {
          "base_uri": "https://localhost:8080/",
          "height": 480
        },
        "outputId": "924d09ab-0a7b-4b26-d947-d0caca3654f2"
      },
      "outputs": [
        {
          "output_type": "display_data",
          "data": {
            "text/plain": [
              "<Figure size 640x480 with 1 Axes>"
            ],
            "image/png": "[encoded data removed]"
          },
          "metadata": {}
        }
      ],
      "source": [
        "# prompt: draw histogram with variable \"region\" from df_1\n",
        "\n",
        "# https://stat.gov.pl/statystyka-regionalna/jednostki-terytorialne/klasyfikacja-nuts/klasyfikacja-nuts-w-polsce/\n",
        "# https://stat.gov.pl/download/gfx/portalinformacyjny/pl/defaultstronaopisowa/5872/1/1/klasyfikacja-nuts-w-polsce-2003-2021.xls\n",
        "\n",
        "df_L1['region'].value_counts().plot(kind='bar')\n",
        "plt.xlabel('Region')\n",
        "plt.ylabel('Count')\n",
        "plt.title('Histogram of Region')\n",
        "plt.show()\n"
      ]
    },
    {
      "cell_type": "code",
      "source": [
        "for key, value in meta.variable_value_labels['wiek_10k'].items():\n",
        "    print(f\"{key}: {value}\")"
      ],
      "metadata": {
        "colab": {
          "base_uri": "https://localhost:8080/"
        },
        "id": "y7yaAlIxh2YU",
        "outputId": "d540b329-ade3-4327-eda0-6612992839c0"
      },
      "execution_count": 13,
      "outputs": [
        {
          "output_type": "stream",
          "name": "stdout",
          "text": [
            "1.0: 18-24\n",
            "2.0: 25-29\n",
            "3.0: 30-34\n",
            "4.0: 35-39\n",
            "5.0: 40-44\n",
            "6.0: 45-49\n",
            "7.0: 50-54\n",
            "8.0: 55-59\n",
            "9.0: 60-64\n",
            "10.0: 65-69\n"
          ]
        }
      ]
    },
    {
      "cell_type": "code",
      "execution_count": 14,
      "metadata": {
        "id": "G8pnSTBQRCRs",
        "colab": {
          "base_uri": "https://localhost:8080/",
          "height": 216
        },
        "outputId": "91616dff-aa41-4949-d677-58f4732ae2aa"
      },
      "outputs": [
        {
          "output_type": "error",
          "ename": "NameError",
          "evalue": "name 'df_1' is not defined",
          "traceback": [
            "\u001b[0;31m---------------------------------------------------------------------------\u001b[0m",
            "\u001b[0;31mNameError\u001b[0m                                 Traceback (most recent call last)",
            "\u001b[0;32m<ipython-input-14-fde0920fd59d>\u001b[0m in \u001b[0;36m<cell line: 0>\u001b[0;34m()\u001b[0m\n\u001b[1;32m      1\u001b[0m \u001b[0;31m# Histogram dla wieku respondetów\u001b[0m\u001b[0;34m\u001b[0m\u001b[0;34m\u001b[0m\u001b[0m\n\u001b[0;32m----> 2\u001b[0;31m \u001b[0mdf_1\u001b[0m\u001b[0;34m[\u001b[0m\u001b[0;34m'wiek_10k'\u001b[0m\u001b[0;34m]\u001b[0m\u001b[0;34m.\u001b[0m\u001b[0mvalue_counts\u001b[0m\u001b[0;34m(\u001b[0m\u001b[0;34m)\u001b[0m\u001b[0;34m.\u001b[0m\u001b[0mplot\u001b[0m\u001b[0;34m(\u001b[0m\u001b[0mkind\u001b[0m\u001b[0;34m=\u001b[0m\u001b[0;34m'bar'\u001b[0m\u001b[0;34m)\u001b[0m\u001b[0;34m\u001b[0m\u001b[0;34m\u001b[0m\u001b[0m\n\u001b[0m\u001b[1;32m      3\u001b[0m \u001b[0mplt\u001b[0m\u001b[0;34m.\u001b[0m\u001b[0mxlabel\u001b[0m\u001b[0;34m(\u001b[0m\u001b[0;34m'wiek'\u001b[0m\u001b[0;34m)\u001b[0m\u001b[0;34m\u001b[0m\u001b[0;34m\u001b[0m\u001b[0m\n\u001b[1;32m      4\u001b[0m \u001b[0mplt\u001b[0m\u001b[0;34m.\u001b[0m\u001b[0mylabel\u001b[0m\u001b[0;34m(\u001b[0m\u001b[0;34m'Count'\u001b[0m\u001b[0;34m)\u001b[0m\u001b[0;34m\u001b[0m\u001b[0;34m\u001b[0m\u001b[0m\n\u001b[1;32m      5\u001b[0m \u001b[0mplt\u001b[0m\u001b[0;34m.\u001b[0m\u001b[0mtitle\u001b[0m\u001b[0;34m(\u001b[0m\u001b[0;34m'Histogram of Wiek_10k'\u001b[0m\u001b[0;34m)\u001b[0m\u001b[0;34m\u001b[0m\u001b[0;34m\u001b[0m\u001b[0m\n",
            "\u001b[0;31mNameError\u001b[0m: name 'df_1' is not defined"
          ]
        }
      ],
      "source": [
        "# Histogram dla wieku respondetów\n",
        "df_1['wiek_10k'].value_counts().plot(kind='bar')\n",
        "plt.xlabel('wiek')\n",
        "plt.ylabel('Count')\n",
        "plt.title('Histogram of Wiek_10k')\n",
        "plt.show()\n",
        "print(meta.variable_value_labels['wiek_10k'])"
      ]
    },
    {
      "cell_type": "code",
      "source": [
        "print(meta.variable_value_labels['k25'])\n",
        "df['k23'].value_counts().plot(kind='bar')\n",
        "plt.xlabel('Gotowość do pracy w nietypowych godzinach wymaganych przez pracodawcę')\n",
        "plt.ylabel('Count')\n",
        "plt.title('k25')\n",
        "plt.show()"
      ],
      "metadata": {
        "id": "AqQpbV9qsB9Y"
      },
      "execution_count": null,
      "outputs": []
    },
    {
      "cell_type": "code",
      "source": [
        "for key, value in meta.variable_value_labels['m2'].items():\n",
        "    print(f\"{key}: {value}\")"
      ],
      "metadata": {
        "id": "CpH8R7IbiQS8"
      },
      "execution_count": null,
      "outputs": []
    },
    {
      "cell_type": "code",
      "source": [
        "for key, value in meta.variable_value_labels['edycja'].items():\n",
        "    print(f\"{key}: {value}\")"
      ],
      "metadata": {
        "id": "VmN4H1nBiUt2"
      },
      "execution_count": null,
      "outputs": []
    },
    {
      "cell_type": "code",
      "source": [
        "for key, value in meta.variable_value_labels['miejsce'].items():\n",
        "    print(f\"{key}: {value}\")"
      ],
      "metadata": {
        "id": "tPthdrTlisos"
      },
      "execution_count": null,
      "outputs": []
    },
    {
      "cell_type": "code",
      "execution_count": null,
      "metadata": {
        "id": "9Nc9oQiuvEqF"
      },
      "outputs": [],
      "source": [
        "df_1['miejsce'].value_counts().plot(kind='bar')\n",
        "plt.xlabel('Miejsce zamieszkania respondenta')\n",
        "plt.ylabel('Count')\n",
        "plt.title('Histogram miejsca zamieszkania respondenta')\n",
        "plt.show()\n",
        "print(meta.variable_value_labels['miejsce'])"
      ]
    },
    {
      "cell_type": "code",
      "source": [
        "for key, value in meta.variable_value_labels['wykszt_7k'].items():\n",
        "    print(f\"{key}: {value}\")"
      ],
      "metadata": {
        "id": "YaaFyFgspdFS"
      },
      "execution_count": null,
      "outputs": []
    },
    {
      "cell_type": "code",
      "source": [
        "for key, value in meta.variable_value_labels['wykszt_4k'].items():\n",
        "    print(f\"{key}: {value}\")"
      ],
      "metadata": {
        "id": "PlCeP_wBpilT"
      },
      "execution_count": null,
      "outputs": []
    },
    {
      "cell_type": "markdown",
      "source": [
        "### Soft skills"
      ],
      "metadata": {
        "id": "jIZ-fbeirU4h"
      }
    },
    {
      "cell_type": "code",
      "source": [
        "for key, value in meta.variable_value_labels['k17'].items():\n",
        "    print(f\"{key}: {value}\")\n",
        "\n",
        "df_L1['k17'].value_counts().plot(kind='bar')\n",
        "plt.xlabel('Łatwe nawiązywanie kontaktów z ludźmi')\n",
        "plt.ylabel('Count')\n",
        "plt.title('k17')\n",
        "plt.show()"
      ],
      "metadata": {
        "id": "HaZtsQA_yZ7Z"
      },
      "execution_count": null,
      "outputs": []
    },
    {
      "cell_type": "code",
      "source": [
        "for key, value in meta.variable_value_labels['k23'].items():\n",
        "    print(f\"{key}: {value}\")"
      ],
      "metadata": {
        "id": "wLg2GHNDp5l4"
      },
      "execution_count": null,
      "outputs": []
    },
    {
      "cell_type": "code",
      "source": [
        "df_L1['k23'].value_counts().plot(kind='bar')\n",
        "plt.xlabel('Biegłe posługiwanie się jęz. polskim w mowie i piśmie')\n",
        "plt.ylabel('Count')\n",
        "plt.title('k23')\n",
        "plt.show()"
      ],
      "metadata": {
        "id": "IuZiLdf2qCHt"
      },
      "execution_count": null,
      "outputs": []
    },
    {
      "cell_type": "code",
      "source": [
        "for key, value in meta.variable_value_labels['k25'].items():\n",
        "    print(f\"{key}: {value}\")"
      ],
      "metadata": {
        "id": "EvTWop8_qe5p"
      },
      "execution_count": null,
      "outputs": []
    },
    {
      "cell_type": "markdown",
      "source": [
        "### Elastyczność i inne"
      ],
      "metadata": {
        "id": "gyR4gIs0rhjz"
      }
    },
    {
      "cell_type": "code",
      "execution_count": null,
      "metadata": {
        "id": "4D0oVvYnzz0y"
      },
      "outputs": [],
      "source": [
        "# prompt: how to filter df_1 to see only the lines with p3_isco2 value equal to 71\n",
        "\n",
        "# Pokaż dane tylko tych osób, które w zmiennej p3_isco2 mają wartość 71 (własna działalnośc + budowlanka)\n",
        "\n",
        "df_filtered = df_1[df_1['p3_isco2'] == 71]\n",
        "df_filtered\n"
      ]
    },
    {
      "cell_type": "markdown",
      "metadata": {
        "id": "q63TrtLRvKZE"
      },
      "source": [
        "### Zawody"
      ]
    },
    {
      "cell_type": "markdown",
      "metadata": {
        "id": "SAl_FJq7uuLr"
      },
      "source": [
        "### ![image.png](data:image/png;base64,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)"
      ]
    },
    {
      "cell_type": "code",
      "source": [
        "# lista zawodów wg. 6-cio cyfrowej skali isco\n",
        "for key, value in meta.variable_value_labels['wykszt_4k'].items():\n",
        "    print(f\"{key}: {value}\")"
      ],
      "metadata": {
        "collapsed": true,
        "id": "PJ3Py8Z53dpe"
      },
      "execution_count": null,
      "outputs": []
    },
    {
      "cell_type": "code",
      "source": [
        "# lista zawodów wg. 5 cyfrowej skali isco\n",
        "for key, value in meta.variable_value_labels['wykszt_4k'].items():\n",
        "    print(f\"{key}: {value}\")"
      ],
      "metadata": {
        "id": "ELi4XLLc3qpp"
      },
      "execution_count": null,
      "outputs": []
    },
    {
      "cell_type": "code",
      "execution_count": null,
      "metadata": {
        "id": "ZpTA4a08vHrf",
        "collapsed": true
      },
      "outputs": [],
      "source": [
        "# lista zawodów wg. 6 cyfrowej skali isco\n",
        "for key, value in meta.variable_value_labels['s2_5_isco'].items():\n",
        "    print(f\"{key}: {value}\")\n",
        "\n",
        "df_L1['s2_5_isco'].value_counts().plot(kind='bar')\n",
        "plt.xlabel('S2_5_isco')\n",
        "plt.ylabel('Count')\n",
        "plt.title('s2_5_isco')\n",
        "plt.show()"
      ]
    },
    {
      "cell_type": "code",
      "execution_count": null,
      "metadata": {
        "id": "tIQCOlPZx4Fo",
        "collapsed": true
      },
      "outputs": [],
      "source": [
        "# lista zawodów wg. 5 cyfrowej skali isco\n",
        "for key, value in meta.variable_value_labels['wykszt_4k'].items():\n",
        "    print(f\"{key}: {value}\")"
      ]
    },
    {
      "cell_type": "code",
      "source": [
        "for key, value in meta.variable_value_labels['p3_isco2'].items():\n",
        "    print(f\"{key}: {value}\")"
      ],
      "metadata": {
        "collapsed": true,
        "id": "ibnCI1XZ4O2V"
      },
      "execution_count": null,
      "outputs": []
    },
    {
      "cell_type": "code",
      "source": [
        "for key, value in meta.variable_value_labels['p3_isco4'].items():\n",
        "    print(f\"{key}: {value}\")"
      ],
      "metadata": {
        "collapsed": true,
        "id": "xwf5Jp3C4ZEp"
      },
      "execution_count": null,
      "outputs": []
    },
    {
      "cell_type": "markdown",
      "source": [
        "### Wykształcenie"
      ],
      "metadata": {
        "id": "6V9G8h-AtghP"
      }
    },
    {
      "cell_type": "markdown",
      "source": [
        "### Sytuacja zawodowa- gotowość do podjęcia pracy (?)"
      ],
      "metadata": {
        "id": "9-iGhdPazICC"
      }
    },
    {
      "cell_type": "code",
      "source": [
        "# Sytuacja zawodowa (BAEL)\n",
        "for key, value in meta.variable_value_labels['BAEL_sytzaw'].items():\n",
        "    print(f\"{key}: {value}\")"
      ],
      "metadata": {
        "colab": {
          "base_uri": "https://localhost:8080/"
        },
        "id": "H2h4xizAzP60",
        "outputId": "2c8a3f78-52a2-4a1f-b14d-11c7769ce645"
      },
      "execution_count": 37,
      "outputs": [
        {
          "output_type": "stream",
          "name": "stdout",
          "text": [
            "0.0: pracujący\n",
            "1.0: bezrobotni\n",
            "2.0: nieaktywni\n"
          ]
        }
      ]
    },
    {
      "cell_type": "code",
      "source": [
        "df_L1['BAEL_sytzaw'].value_counts().plot(kind='bar')\n",
        "plt.xlabel('Sytuacja zawodowa (BAEL)')\n",
        "plt.ylabel('Count')\n",
        "plt.title('BAEL_sytzaw')\n",
        "plt.show()"
      ],
      "metadata": {
        "colab": {
          "base_uri": "https://localhost:8080/",
          "height": 479
        },
        "id": "JqA2WqduzlTl",
        "outputId": "ca89d9a4-b5d3-4498-cd90-dc0a0449c6a4"
      },
      "execution_count": 36,
      "outputs": [
        {
          "output_type": "display_data",
          "data": {
            "text/plain": [
              "<Figure size 640x480 with 1 Axes>"
            ],
            "image/png": "[encoded data removed]"
          },
          "metadata": {}
        }
      ]
    },
    {
      "cell_type": "code",
      "source": [
        "for key, value in meta.variable_value_labels['z4_2'].items():\n",
        "    print(f\"{key}: {value}\")"
      ],
      "metadata": {
        "id": "wFzHyKgZ5EKf"
      },
      "execution_count": null,
      "outputs": []
    },
    {
      "cell_type": "markdown",
      "metadata": {
        "id": "jfCKAk5J19q0"
      },
      "source": [
        "## Zmienne wykorzystane w analizie\n",
        "\n"
      ]
    },
    {
      "cell_type": "code",
      "execution_count": null,
      "metadata": {
        "id": "O2ZjY9rq2GWw"
      },
      "outputs": [],
      "source": [
        "list_of_used_var = [\"id\", \"region\", \"m1\",\"wiek\",\"wiek_10k\",\"m2\"]\n",
        "for list_of_used_var in list_of_used_var:\n",
        "  print(list_of_used_var)"
      ]
    },
    {
      "cell_type": "markdown",
      "metadata": {
        "id": "OO0dH11kMYCq"
      },
      "source": [
        "# 5 Czyszczenie danych"
      ]
    },
    {
      "cell_type": "markdown",
      "metadata": {
        "id": "H3YPY4dCMbhj"
      },
      "source": [
        "## Braki danych"
      ]
    },
    {
      "cell_type": "code",
      "source": [
        "# Calculate the number of rows with missing data\n",
        "rows_with_missing_data = df_L1.isnull().any(axis=1).sum()\n",
        "print(f\"Number of rows with missing data: {rows_with_missing_data}\")"
      ],
      "metadata": {
        "colab": {
          "base_uri": "https://localhost:8080/"
        },
        "id": "Qkrb7roUGtbE",
        "outputId": "f9531f6a-5358-4ed5-dda6-ab9d1671d8d9"
      },
      "execution_count": 52,
      "outputs": [
        {
          "output_type": "stream",
          "name": "stdout",
          "text": [
            "Number of rows with missing data: 2529\n"
          ]
        }
      ]
    },
    {
      "cell_type": "code",
      "source": [
        "# Display variables with missing data\n",
        "missing_data = df_L1.isnull().sum()\n",
        "print(missing_data[missing_data > 0])\n",
        "\n",
        "# Zmienne do wyłączenia z analizy z powodu dużej ilości brakujących danych:\n",
        "## BAEL_sytzaw\n",
        "## bezrej\n",
        "## zawod1...4\n",
        "## DOKSZTAŁCANIE"
      ],
      "metadata": {
        "colab": {
          "base_uri": "https://localhost:8080/"
        },
        "id": "WW3i4cm5GCOz",
        "outputId": "d0ccf58e-0848-4f3c-b3a2-cbeee2a69214"
      },
      "execution_count": 53,
      "outputs": [
        {
          "output_type": "stream",
          "name": "stdout",
          "text": [
            "region              6\n",
            "miejsce_4k          6\n",
            "wiek_10k            1\n",
            "BAEL_sytzaw       821\n",
            "bezrej            811\n",
            "                 ... \n",
            "zawod1            448\n",
            "zawod2            259\n",
            "zawod3            259\n",
            "zawod4            259\n",
            "DOKSZTAŁCANIE    2529\n",
            "Length: 670, dtype: int64\n"
          ]
        }
      ]
    },
    {
      "cell_type": "code",
      "source": [
        "# Assuming 'missing_percentage' is already calculated as in your provided code\n",
        "# missing_data = df_L1.isnull().sum()\n",
        "# total_rows = len(df_L1)\n",
        "# missing_percentage = (missing_data / total_rows) * 100\n",
        "\n",
        "# Sort missing data in descending order\n",
        "missing_percentage_sorted = missing_percentage.sort_values(ascending=False)\n",
        "\n",
        "# Create the histogram\n",
        "plt.figure(figsize=(10, 6))  # Adjust figure size as needed\n",
        "plt.bar(missing_percentage_sorted.index, missing_percentage_sorted.values)\n",
        "plt.xlabel(\"Variables\")\n",
        "plt.ylabel(\"Percentage of Missing Data\")\n",
        "plt.title(\"Missing Data Percentage per Variable (Descending Order)\")\n",
        "plt.xticks(rotation=90)  # Rotate x-axis labels for better readability\n",
        "plt.tight_layout()  # Adjust layout to prevent labels from overlapping\n",
        "plt.show()"
      ],
      "metadata": {
        "colab": {
          "base_uri": "https://localhost:8080/",
          "height": 607
        },
        "id": "KWLWb59wKjza",
        "outputId": "a8a974ff-59ca-4618-ed5e-2fb5ebcfcd23"
      },
      "execution_count": 69,
      "outputs": [
        {
          "output_type": "display_data",
          "data": {
            "text/plain": [
              "<Figure size 1000x600 with 1 Axes>"
            ],
            "image/png": "[encoded data removed]"
          },
          "metadata": {}
        }
      ]
    },
    {
      "cell_type": "code",
      "source": [
        "# Export the DataFrame to an Excel file\n",
        "df_L1.to_excel('output.xlsx', index=False)  # Set index=False to avoid writing row indices\n",
        "\n",
        "# Download the Excel file (Colab specific)\n",
        "from google.colab import files\n",
        "files.download('output.xlsx')\n"
      ],
      "metadata": {
        "colab": {
          "base_uri": "https://localhost:8080/",
          "height": 17
        },
        "id": "8KrsQPkhOkL0",
        "outputId": "35cdccad-3dd7-4c1c-f292-7d1efff5a393"
      },
      "execution_count": 70,
      "outputs": [
        {
          "output_type": "display_data",
          "data": {
            "text/plain": [
              "<IPython.core.display.Javascript object>"
            ],
            "application/javascript": [
              "\n",
              "    async function download(id, filename, size) {\n",
              "      if (!google.colab.kernel.accessAllowed) {\n",
              "        return;\n",
              "      }\n",
              "      const div = document.createElement('div');\n",
              "      const label = document.createElement('label');\n",
              "      label.textContent = `Downloading \"${filename}\": `;\n",
              "      div.appendChild(label);\n",
              "      const progress = document.createElement('progress');\n",
              "      progress.max = size;\n",
              "      div.appendChild(progress);\n",
              "      document.body.appendChild(div);\n",
              "\n",
              "      const buffers = [];\n",
              "      let downloaded = 0;\n",
              "\n",
              "      const channel = await google.colab.kernel.comms.open(id);\n",
              "      // Send a message to notify the kernel that we're ready.\n",
              "      channel.send({})\n",
              "\n",
              "      for await (const message of channel.messages) {\n",
              "        // Send a message to notify the kernel that we're ready.\n",
              "        channel.send({})\n",
              "        if (message.buffers) {\n",
              "          for (const buffer of message.buffers) {\n",
              "            buffers.push(buffer);\n",
              "            downloaded += buffer.byteLength;\n",
              "            progress.value = downloaded;\n",
              "          }\n",
              "        }\n",
              "      }\n",
              "      const blob = new Blob(buffers, {type: 'application/binary'});\n",
              "      const a = document.createElement('a');\n",
              "      a.href = window.URL.createObjectURL(blob);\n",
              "      a.download = filename;\n",
              "      div.appendChild(a);\n",
              "      a.click();\n",
              "      div.remove();\n",
              "    }\n",
              "  "
            ]
          },
          "metadata": {}
        },
        {
          "output_type": "display_data",
          "data": {
            "text/plain": [
              "<IPython.core.display.Javascript object>"
            ],
            "application/javascript": [
              "download(\"download_5d87edab-de99-469c-ae3d-a3f85e10c0e1\", \"output.xlsx\", 7342635)"
            ]
          },
          "metadata": {}
        }
      ]
    },
    {
      "cell_type": "code",
      "source": [
        "# Assuming 'df_L1' is your DataFrame and 'missing_percentage' is calculated as in your provided code\n",
        "# Calculate missing percentage if not already calculated\n",
        "missing_data = df_L1.isnull().sum()\n",
        "total_rows = len(df_L1)\n",
        "missing_percentage = (missing_data / total_rows) * 100\n",
        "\n",
        "# Sort variables by missing percentage in descending order and get the top 10\n",
        "top_x_missing = missing_percentage.sort_values(ascending=False)\n",
        "\n",
        "# Print the top 10 variables with the highest missing data ratio\n",
        "print(\"Top 10 variables with the biggest missing data ratio:\")\n",
        "top_10_missing\n"
      ],
      "metadata": {
        "colab": {
          "base_uri": "https://localhost:8080/",
          "height": 1000
        },
        "id": "djlOeEHSMU0U",
        "outputId": "2a3915fd-e80b-490e-8285-bbd67ddedcd1"
      },
      "execution_count": 68,
      "outputs": [
        {
          "output_type": "stream",
          "name": "stdout",
          "text": [
            "Top 10 variables with the biggest missing data ratio:\n"
          ]
        },
        {
          "output_type": "execute_result",
          "data": {
            "text/plain": [
              "DOKSZTAŁCANIE    100.0\n",
              "test_komp        100.0\n",
              "m5_3             100.0\n",
              "ZAWODY_ISCO      100.0\n",
              "test_slow        100.0\n",
              "w5_6_abs5        100.0\n",
              "w5_6_abs6        100.0\n",
              "w5_7_6           100.0\n",
              "p3_isco_d        100.0\n",
              "p10b_10          100.0\n",
              "p10b_13          100.0\n",
              "p10b_14          100.0\n",
              "p10a_04          100.0\n",
              "q8_01            100.0\n",
              "w5_6_abs3        100.0\n",
              "q4               100.0\n",
              "p10b_01          100.0\n",
              "w5_7_4           100.0\n",
              "p10a_14          100.0\n",
              "p10a_13          100.0\n",
              "p10a_01          100.0\n",
              "p10a_09          100.0\n",
              "p10a_10          100.0\n",
              "p10b_09          100.0\n",
              "p10b_04          100.0\n",
              "w5_7_3           100.0\n",
              "q5               100.0\n",
              "n12_1            100.0\n",
              "n14              100.0\n",
              "s2_5_isco_d1     100.0\n",
              "dtype: float64"
            ],
            "text/html": [
              "<div>\n",
              "<style scoped>\n",
              "    .dataframe tbody tr th:only-of-type {\n",
              "        vertical-align: middle;\n",
              "    }\n",
              "\n",
              "    .dataframe tbody tr th {\n",
              "        vertical-align: top;\n",
              "    }\n",
              "\n",
              "    .dataframe thead th {\n",
              "        text-align: right;\n",
              "    }\n",
              "</style>\n",
              "<table border=\"1\" class=\"dataframe\">\n",
              "  <thead>\n",
              "    <tr style=\"text-align: right;\">\n",
              "      <th></th>\n",
              "      <th>0</th>\n",
              "    </tr>\n",
              "  </thead>\n",
              "  <tbody>\n",
              "    <tr>\n",
              "      <th>DOKSZTAŁCANIE</th>\n",
              "      <td>100.0</td>\n",
              "    </tr>\n",
              "    <tr>\n",
              "      <th>test_komp</th>\n",
              "      <td>100.0</td>\n",
              "    </tr>\n",
              "    <tr>\n",
              "      <th>m5_3</th>\n",
              "      <td>100.0</td>\n",
              "    </tr>\n",
              "    <tr>\n",
              "      <th>ZAWODY_ISCO</th>\n",
              "      <td>100.0</td>\n",
              "    </tr>\n",
              "    <tr>\n",
              "      <th>test_slow</th>\n",
              "      <td>100.0</td>\n",
              "    </tr>\n",
              "    <tr>\n",
              "      <th>w5_6_abs5</th>\n",
              "      <td>100.0</td>\n",
              "    </tr>\n",
              "    <tr>\n",
              "      <th>w5_6_abs6</th>\n",
              "      <td>100.0</td>\n",
              "    </tr>\n",
              "    <tr>\n",
              "      <th>w5_7_6</th>\n",
              "      <td>100.0</td>\n",
              "    </tr>\n",
              "    <tr>\n",
              "      <th>p3_isco_d</th>\n",
              "      <td>100.0</td>\n",
              "    </tr>\n",
              "    <tr>\n",
              "      <th>p10b_10</th>\n",
              "      <td>100.0</td>\n",
              "    </tr>\n",
              "    <tr>\n",
              "      <th>p10b_13</th>\n",
              "      <td>100.0</td>\n",
              "    </tr>\n",
              "    <tr>\n",
              "      <th>p10b_14</th>\n",
              "      <td>100.0</td>\n",
              "    </tr>\n",
              "    <tr>\n",
              "      <th>p10a_04</th>\n",
              "      <td>100.0</td>\n",
              "    </tr>\n",
              "    <tr>\n",
              "      <th>q8_01</th>\n",
              "      <td>100.0</td>\n",
              "    </tr>\n",
              "    <tr>\n",
              "      <th>w5_6_abs3</th>\n",
              "      <td>100.0</td>\n",
              "    </tr>\n",
              "    <tr>\n",
              "      <th>q4</th>\n",
              "      <td>100.0</td>\n",
              "    </tr>\n",
              "    <tr>\n",
              "      <th>p10b_01</th>\n",
              "      <td>100.0</td>\n",
              "    </tr>\n",
              "    <tr>\n",
              "      <th>w5_7_4</th>\n",
              "      <td>100.0</td>\n",
              "    </tr>\n",
              "    <tr>\n",
              "      <th>p10a_14</th>\n",
              "      <td>100.0</td>\n",
              "    </tr>\n",
              "    <tr>\n",
              "      <th>p10a_13</th>\n",
              "      <td>100.0</td>\n",
              "    </tr>\n",
              "    <tr>\n",
              "      <th>p10a_01</th>\n",
              "      <td>100.0</td>\n",
              "    </tr>\n",
              "    <tr>\n",
              "      <th>p10a_09</th>\n",
              "      <td>100.0</td>\n",
              "    </tr>\n",
              "    <tr>\n",
              "      <th>p10a_10</th>\n",
              "      <td>100.0</td>\n",
              "    </tr>\n",
              "    <tr>\n",
              "      <th>p10b_09</th>\n",
              "      <td>100.0</td>\n",
              "    </tr>\n",
              "    <tr>\n",
              "      <th>p10b_04</th>\n",
              "      <td>100.0</td>\n",
              "    </tr>\n",
              "    <tr>\n",
              "      <th>w5_7_3</th>\n",
              "      <td>100.0</td>\n",
              "    </tr>\n",
              "    <tr>\n",
              "      <th>q5</th>\n",
              "      <td>100.0</td>\n",
              "    </tr>\n",
              "    <tr>\n",
              "      <th>n12_1</th>\n",
              "      <td>100.0</td>\n",
              "    </tr>\n",
              "    <tr>\n",
              "      <th>n14</th>\n",
              "      <td>100.0</td>\n",
              "    </tr>\n",
              "    <tr>\n",
              "      <th>s2_5_isco_d1</th>\n",
              "      <td>100.0</td>\n",
              "    </tr>\n",
              "  </tbody>\n",
              "</table>\n",
              "</div><br><label><b>dtype:</b> float64</label>"
            ]
          },
          "metadata": {},
          "execution_count": 68
        }
      ]
    },
    {
      "cell_type": "code",
      "source": [
        "# prompt: to export above list  of missing data as excel file\n",
        "\n",
        "# Assuming 'missing_percentage' is already calculated as in your provided code\n",
        "# and 'top_x_missing' contains the Series with missing data percentages\n",
        "\n",
        "# Convert the Series to a DataFrame for easier export\n",
        "missing_data_df = top_x_missing.reset_index()\n",
        "missing_data_df.columns = ['Variable', 'Missing Percentage']\n",
        "\n",
        "# Export the DataFrame to an Excel file\n",
        "missing_data_df.to_excel('missing_data.xlsx', index=False)\n"
      ],
      "metadata": {
        "id": "dRfZNz2nNxj-"
      },
      "execution_count": 66,
      "outputs": []
    },
    {
      "cell_type": "code",
      "source": [
        "# prompt: to show the values which are in the variable df_L1['n14']\n",
        "\n",
        "print(df_L1['n14'].values)\n"
      ],
      "metadata": {
        "colab": {
          "base_uri": "https://localhost:8080/"
        },
        "id": "ZyOn99XUMzz6",
        "outputId": "9fce17bf-c9db-4649-f338-0427cc9d52cf"
      },
      "execution_count": 63,
      "outputs": [
        {
          "output_type": "stream",
          "name": "stdout",
          "text": [
            "[nan nan nan ... nan nan nan]\n"
          ]
        }
      ]
    },
    {
      "cell_type": "markdown",
      "source": [],
      "metadata": {
        "id": "q7rdo7u4JXof"
      }
    },
    {
      "cell_type": "code",
      "source": [
        "# Przykład zmiennej z brakującymi danymi\n",
        "# Display rows where 'region' has missing values\n",
        "rows_with_missing_region = df_L1[df_L1['region'].isnull()]\n",
        "rows_with_missing_region"
      ],
      "metadata": {
        "colab": {
          "base_uri": "https://localhost:8080/",
          "height": 391
        },
        "id": "z9otHGMgGZVF",
        "outputId": "1ec9e7fb-edb3-4239-b2d8-36827b6c154b"
      },
      "execution_count": 34,
      "outputs": [
        {
          "output_type": "execute_result",
          "data": {
            "text/plain": [
              "          id       intid  waga_proba  waga_proba_kor      waga_pop  \\\n",
              "370   6960.0  02721-2021    0.465922        0.471957   4643.277778   \n",
              "1314  7904.0  03253-2021    1.255869        1.272136  12515.714286   \n",
              "1399  7989.0  03187-2021    1.658442        1.679923  16527.666667   \n",
              "1525  8115.0  02757-2021    0.394527        0.399637   3931.769231   \n",
              "2383  8973.0  02544-2022    0.978391        0.991063   9750.428571   \n",
              "2476  9066.0  06256-2022    0.394527        0.399637   3931.769231   \n",
              "\n",
              "      waga_pop_kor  rodzaj  edycja     rok     datawyw  ...  pform4t  neet  \\\n",
              "370    4703.419171     3.0  2021.0  2021.0  2021-10-02  ...      0.0   0.0   \n",
              "1314  12677.822290     2.0  2021.0  2021.0  2021-11-21  ...      0.0   0.0   \n",
              "1399  16741.738912     3.0  2021.0  2021.0  2021-11-26  ...      0.0   0.0   \n",
              "1525   3982.694911     2.0  2021.0  2021.0  2021-12-16  ...      0.0   1.0   \n",
              "2383   9876.719607     2.0  2021.0  2022.0  2022-03-30  ...      0.0   0.0   \n",
              "2476   3982.694911     2.0  2021.0  2022.0  2022-04-05  ...      0.0   0.0   \n",
              "\n",
              "      neet2  form12m  pform12m1  pform12m2  pform12m  nform12m  dokszt_all  \\\n",
              "370     0.0      0.0        0.0        0.0       0.0       1.0         1.0   \n",
              "1314    0.0      0.0        1.0        0.0       1.0       1.0         1.0   \n",
              "1399    0.0      0.0        0.0        0.0       0.0       0.0         0.0   \n",
              "1525    1.0      0.0        0.0        0.0       0.0       1.0         1.0   \n",
              "2383    0.0      0.0        0.0        0.0       0.0       0.0         0.0   \n",
              "2476    0.0      0.0        1.0        0.0       1.0       1.0         1.0   \n",
              "\n",
              "      dokszt_all_bo  \n",
              "370             1.0  \n",
              "1314            1.0  \n",
              "1399            0.0  \n",
              "1525            1.0  \n",
              "2383            0.0  \n",
              "2476            1.0  \n",
              "\n",
              "[6 rows x 910 columns]"
            ],
            "text/html": [
              "\n",
              "  <div id=\"df-da815ad9-35c5-403c-aa71-4c0ba0cf7be9\" class=\"colab-df-container\">\n",
              "    <div>\n",
              "<style scoped>\n",
              "    .dataframe tbody tr th:only-of-type {\n",
              "        vertical-align: middle;\n",
              "    }\n",
              "\n",
              "    .dataframe tbody tr th {\n",
              "        vertical-align: top;\n",
              "    }\n",
              "\n",
              "    .dataframe thead th {\n",
              "        text-align: right;\n",
              "    }\n",
              "</style>\n",
              "<table border=\"1\" class=\"dataframe\">\n",
              "  <thead>\n",
              "    <tr style=\"text-align: right;\">\n",
              "      <th></th>\n",
              "      <th>id</th>\n",
              "      <th>intid</th>\n",
              "      <th>waga_proba</th>\n",
              "      <th>waga_proba_kor</th>\n",
              "      <th>waga_pop</th>\n",
              "      <th>waga_pop_kor</th>\n",
              "      <th>rodzaj</th>\n",
              "      <th>edycja</th>\n",
              "      <th>rok</th>\n",
              "      <th>datawyw</th>\n",
              "      <th>...</th>\n",
              "      <th>pform4t</th>\n",
              "      <th>neet</th>\n",
              "      <th>neet2</th>\n",
              "      <th>form12m</th>\n",
              "      <th>pform12m1</th>\n",
              "      <th>pform12m2</th>\n",
              "      <th>pform12m</th>\n",
              "      <th>nform12m</th>\n",
              "      <th>dokszt_all</th>\n",
              "      <th>dokszt_all_bo</th>\n",
              "    </tr>\n",
              "  </thead>\n",
              "  <tbody>\n",
              "    <tr>\n",
              "      <th>370</th>\n",
              "      <td>6960.0</td>\n",
              "      <td>02721-2021</td>\n",
              "      <td>0.465922</td>\n",
              "      <td>0.471957</td>\n",
              "      <td>4643.277778</td>\n",
              "      <td>4703.419171</td>\n",
              "      <td>3.0</td>\n",
              "      <td>2021.0</td>\n",
              "      <td>2021.0</td>\n",
              "      <td>2021-10-02</td>\n",
              "      <td>...</td>\n",
              "      <td>0.0</td>\n",
              "      <td>0.0</td>\n",
              "      <td>0.0</td>\n",
              "      <td>0.0</td>\n",
              "      <td>0.0</td>\n",
              "      <td>0.0</td>\n",
              "      <td>0.0</td>\n",
              "      <td>1.0</td>\n",
              "      <td>1.0</td>\n",
              "      <td>1.0</td>\n",
              "    </tr>\n",
              "    <tr>\n",
              "      <th>1314</th>\n",
              "      <td>7904.0</td>\n",
              "      <td>03253-2021</td>\n",
              "      <td>1.255869</td>\n",
              "      <td>1.272136</td>\n",
              "      <td>12515.714286</td>\n",
              "      <td>12677.822290</td>\n",
              "      <td>2.0</td>\n",
              "      <td>2021.0</td>\n",
              "      <td>2021.0</td>\n",
              "      <td>2021-11-21</td>\n",
              "      <td>...</td>\n",
              "      <td>0.0</td>\n",
              "      <td>0.0</td>\n",
              "      <td>0.0</td>\n",
              "      <td>0.0</td>\n",
              "      <td>1.0</td>\n",
              "      <td>0.0</td>\n",
              "      <td>1.0</td>\n",
              "      <td>1.0</td>\n",
              "      <td>1.0</td>\n",
              "      <td>1.0</td>\n",
              "    </tr>\n",
              "    <tr>\n",
              "      <th>1399</th>\n",
              "      <td>7989.0</td>\n",
              "      <td>03187-2021</td>\n",
              "      <td>1.658442</td>\n",
              "      <td>1.679923</td>\n",
              "      <td>16527.666667</td>\n",
              "      <td>16741.738912</td>\n",
              "      <td>3.0</td>\n",
              "      <td>2021.0</td>\n",
              "      <td>2021.0</td>\n",
              "      <td>2021-11-26</td>\n",
              "      <td>...</td>\n",
              "      <td>0.0</td>\n",
              "      <td>0.0</td>\n",
              "      <td>0.0</td>\n",
              "      <td>0.0</td>\n",
              "      <td>0.0</td>\n",
              "      <td>0.0</td>\n",
              "      <td>0.0</td>\n",
              "      <td>0.0</td>\n",
              "      <td>0.0</td>\n",
              "      <td>0.0</td>\n",
              "    </tr>\n",
              "    <tr>\n",
              "      <th>1525</th>\n",
              "      <td>8115.0</td>\n",
              "      <td>02757-2021</td>\n",
              "      <td>0.394527</td>\n",
              "      <td>0.399637</td>\n",
              "      <td>3931.769231</td>\n",
              "      <td>3982.694911</td>\n",
              "      <td>2.0</td>\n",
              "      <td>2021.0</td>\n",
              "      <td>2021.0</td>\n",
              "      <td>2021-12-16</td>\n",
              "      <td>...</td>\n",
              "      <td>0.0</td>\n",
              "      <td>1.0</td>\n",
              "      <td>1.0</td>\n",
              "      <td>0.0</td>\n",
              "      <td>0.0</td>\n",
              "      <td>0.0</td>\n",
              "      <td>0.0</td>\n",
              "      <td>1.0</td>\n",
              "      <td>1.0</td>\n",
              "      <td>1.0</td>\n",
              "    </tr>\n",
              "    <tr>\n",
              "      <th>2383</th>\n",
              "      <td>8973.0</td>\n",
              "      <td>02544-2022</td>\n",
              "      <td>0.978391</td>\n",
              "      <td>0.991063</td>\n",
              "      <td>9750.428571</td>\n",
              "      <td>9876.719607</td>\n",
              "      <td>2.0</td>\n",
              "      <td>2021.0</td>\n",
              "      <td>2022.0</td>\n",
              "      <td>2022-03-30</td>\n",
              "      <td>...</td>\n",
              "      <td>0.0</td>\n",
              "      <td>0.0</td>\n",
              "      <td>0.0</td>\n",
              "      <td>0.0</td>\n",
              "      <td>0.0</td>\n",
              "      <td>0.0</td>\n",
              "      <td>0.0</td>\n",
              "      <td>0.0</td>\n",
              "      <td>0.0</td>\n",
              "      <td>0.0</td>\n",
              "    </tr>\n",
              "    <tr>\n",
              "      <th>2476</th>\n",
              "      <td>9066.0</td>\n",
              "      <td>06256-2022</td>\n",
              "      <td>0.394527</td>\n",
              "      <td>0.399637</td>\n",
              "      <td>3931.769231</td>\n",
              "      <td>3982.694911</td>\n",
              "      <td>2.0</td>\n",
              "      <td>2021.0</td>\n",
              "      <td>2022.0</td>\n",
              "      <td>2022-04-05</td>\n",
              "      <td>...</td>\n",
              "      <td>0.0</td>\n",
              "      <td>0.0</td>\n",
              "      <td>0.0</td>\n",
              "      <td>0.0</td>\n",
              "      <td>1.0</td>\n",
              "      <td>0.0</td>\n",
              "      <td>1.0</td>\n",
              "      <td>1.0</td>\n",
              "      <td>1.0</td>\n",
              "      <td>1.0</td>\n",
              "    </tr>\n",
              "  </tbody>\n",
              "</table>\n",
              "<p>6 rows × 910 columns</p>\n",
              "</div>\n",
              "    <div class=\"colab-df-buttons\">\n",
              "\n",
              "  <div class=\"colab-df-container\">\n",
              "    <button class=\"colab-df-convert\" onclick=\"convertToInteractive('df-da815ad9-35c5-403c-aa71-4c0ba0cf7be9')\"\n",
              "            title=\"Convert this dataframe to an interactive table.\"\n",
              "            style=\"display:none;\">\n",
              "\n",
              "  <svg xmlns=\"http://www.w3.org/2000/svg\" height=\"24px\" viewBox=\"0 -960 960 960\">\n",
              "    <path d=\"M120-120v-720h720v720H120Zm60-500h600v-160H180v160Zm220 220h160v-160H400v160Zm0 220h160v-160H400v160ZM180-400h160v-160H180v160Zm440 0h160v-160H620v160ZM180-180h160v-160H180v160Zm440 0h160v-160H620v160Z\"/>\n",
              "  </svg>\n",
              "    </button>\n",
              "\n",
              "  <style>\n",
              "    .colab-df-container {\n",
              "      display:flex;\n",
              "      gap: 12px;\n",
              "    }\n",
              "\n",
              "    .colab-df-convert {\n",
              "      background-color: #E8F0FE;\n",
              "      border: none;\n",
              "      border-radius: 50%;\n",
              "      cursor: pointer;\n",
              "      display: none;\n",
              "      fill: #1967D2;\n",
              "      height: 32px;\n",
              "      padding: 0 0 0 0;\n",
              "      width: 32px;\n",
              "    }\n",
              "\n",
              "    .colab-df-convert:hover {\n",
              "      background-color: #E2EBFA;\n",
              "      box-shadow: 0px 1px 2px rgba(60, 64, 67, 0.3), 0px 1px 3px 1px rgba(60, 64, 67, 0.15);\n",
              "      fill: #174EA6;\n",
              "    }\n",
              "\n",
              "    .colab-df-buttons div {\n",
              "      margin-bottom: 4px;\n",
              "    }\n",
              "\n",
              "    [theme=dark] .colab-df-convert {\n",
              "      background-color: #3B4455;\n",
              "      fill: #D2E3FC;\n",
              "    }\n",
              "\n",
              "    [theme=dark] .colab-df-convert:hover {\n",
              "      background-color: #434B5C;\n",
              "      box-shadow: 0px 1px 3px 1px rgba(0, 0, 0, 0.15);\n",
              "      filter: drop-shadow(0px 1px 2px rgba(0, 0, 0, 0.3));\n",
              "      fill: #FFFFFF;\n",
              "    }\n",
              "  </style>\n",
              "\n",
              "    <script>\n",
              "      const buttonEl =\n",
              "        document.querySelector('#df-da815ad9-35c5-403c-aa71-4c0ba0cf7be9 button.colab-df-convert');\n",
              "      buttonEl.style.display =\n",
              "        google.colab.kernel.accessAllowed ? 'block' : 'none';\n",
              "\n",
              "      async function convertToInteractive(key) {\n",
              "        const element = document.querySelector('#df-da815ad9-35c5-403c-aa71-4c0ba0cf7be9');\n",
              "        const dataTable =\n",
              "          await google.colab.kernel.invokeFunction('convertToInteractive',\n",
              "                                                    [key], {});\n",
              "        if (!dataTable) return;\n",
              "\n",
              "        const docLinkHtml = 'Like what you see? Visit the ' +\n",
              "          '<a target=\"_blank\" href=https://colab.research.google.com/notebooks/data_table.ipynb>data table notebook</a>'\n",
              "          + ' to learn more about interactive tables.';\n",
              "        element.innerHTML = '';\n",
              "        dataTable['output_type'] = 'display_data';\n",
              "        await google.colab.output.renderOutput(dataTable, element);\n",
              "        const docLink = document.createElement('div');\n",
              "        docLink.innerHTML = docLinkHtml;\n",
              "        element.appendChild(docLink);\n",
              "      }\n",
              "    </script>\n",
              "  </div>\n",
              "\n",
              "\n",
              "    <div id=\"df-db797dbb-b643-4752-b924-27f795a67265\">\n",
              "      <button class=\"colab-df-quickchart\" onclick=\"quickchart('df-db797dbb-b643-4752-b924-27f795a67265')\"\n",
              "                title=\"Suggest charts\"\n",
              "                style=\"display:none;\">\n",
              "\n",
              "<svg xmlns=\"http://www.w3.org/2000/svg\" height=\"24px\"viewBox=\"0 0 24 24\"\n",
              "     width=\"24px\">\n",
              "    <g>\n",
              "        <path d=\"M19 3H5c-1.1 0-2 .9-2 2v14c0 1.1.9 2 2 2h14c1.1 0 2-.9 2-2V5c0-1.1-.9-2-2-2zM9 17H7v-7h2v7zm4 0h-2V7h2v10zm4 0h-2v-4h2v4z\"/>\n",
              "    </g>\n",
              "</svg>\n",
              "      </button>\n",
              "\n",
              "<style>\n",
              "  .colab-df-quickchart {\n",
              "      --bg-color: #E8F0FE;\n",
              "      --fill-color: #1967D2;\n",
              "      --hover-bg-color: #E2EBFA;\n",
              "      --hover-fill-color: #174EA6;\n",
              "      --disabled-fill-color: #AAA;\n",
              "      --disabled-bg-color: #DDD;\n",
              "  }\n",
              "\n",
              "  [theme=dark] .colab-df-quickchart {\n",
              "      --bg-color: #3B4455;\n",
              "      --fill-color: #D2E3FC;\n",
              "      --hover-bg-color: #434B5C;\n",
              "      --hover-fill-color: #FFFFFF;\n",
              "      --disabled-bg-color: #3B4455;\n",
              "      --disabled-fill-color: #666;\n",
              "  }\n",
              "\n",
              "  .colab-df-quickchart {\n",
              "    background-color: var(--bg-color);\n",
              "    border: none;\n",
              "    border-radius: 50%;\n",
              "    cursor: pointer;\n",
              "    display: none;\n",
              "    fill: var(--fill-color);\n",
              "    height: 32px;\n",
              "    padding: 0;\n",
              "    width: 32px;\n",
              "  }\n",
              "\n",
              "  .colab-df-quickchart:hover {\n",
              "    background-color: var(--hover-bg-color);\n",
              "    box-shadow: 0 1px 2px rgba(60, 64, 67, 0.3), 0 1px 3px 1px rgba(60, 64, 67, 0.15);\n",
              "    fill: var(--button-hover-fill-color);\n",
              "  }\n",
              "\n",
              "  .colab-df-quickchart-complete:disabled,\n",
              "  .colab-df-quickchart-complete:disabled:hover {\n",
              "    background-color: var(--disabled-bg-color);\n",
              "    fill: var(--disabled-fill-color);\n",
              "    box-shadow: none;\n",
              "  }\n",
              "\n",
              "  .colab-df-spinner {\n",
              "    border: 2px solid var(--fill-color);\n",
              "    border-color: transparent;\n",
              "    border-bottom-color: var(--fill-color);\n",
              "    animation:\n",
              "      spin 1s steps(1) infinite;\n",
              "  }\n",
              "\n",
              "  @keyframes spin {\n",
              "    0% {\n",
              "      border-color: transparent;\n",
              "      border-bottom-color: var(--fill-color);\n",
              "      border-left-color: var(--fill-color);\n",
              "    }\n",
              "    20% {\n",
              "      border-color: transparent;\n",
              "      border-left-color: var(--fill-color);\n",
              "      border-top-color: var(--fill-color);\n",
              "    }\n",
              "    30% {\n",
              "      border-color: transparent;\n",
              "      border-left-color: var(--fill-color);\n",
              "      border-top-color: var(--fill-color);\n",
              "      border-right-color: var(--fill-color);\n",
              "    }\n",
              "    40% {\n",
              "      border-color: transparent;\n",
              "      border-right-color: var(--fill-color);\n",
              "      border-top-color: var(--fill-color);\n",
              "    }\n",
              "    60% {\n",
              "      border-color: transparent;\n",
              "      border-right-color: var(--fill-color);\n",
              "    }\n",
              "    80% {\n",
              "      border-color: transparent;\n",
              "      border-right-color: var(--fill-color);\n",
              "      border-bottom-color: var(--fill-color);\n",
              "    }\n",
              "    90% {\n",
              "      border-color: transparent;\n",
              "      border-bottom-color: var(--fill-color);\n",
              "    }\n",
              "  }\n",
              "</style>\n",
              "\n",
              "      <script>\n",
              "        async function quickchart(key) {\n",
              "          const quickchartButtonEl =\n",
              "            document.querySelector('#' + key + ' button');\n",
              "          quickchartButtonEl.disabled = true;  // To prevent multiple clicks.\n",
              "          quickchartButtonEl.classList.add('colab-df-spinner');\n",
              "          try {\n",
              "            const charts = await google.colab.kernel.invokeFunction(\n",
              "                'suggestCharts', [key], {});\n",
              "          } catch (error) {\n",
              "            console.error('Error during call to suggestCharts:', error);\n",
              "          }\n",
              "          quickchartButtonEl.classList.remove('colab-df-spinner');\n",
              "          quickchartButtonEl.classList.add('colab-df-quickchart-complete');\n",
              "        }\n",
              "        (() => {\n",
              "          let quickchartButtonEl =\n",
              "            document.querySelector('#df-db797dbb-b643-4752-b924-27f795a67265 button');\n",
              "          quickchartButtonEl.style.display =\n",
              "            google.colab.kernel.accessAllowed ? 'block' : 'none';\n",
              "        })();\n",
              "      </script>\n",
              "    </div>\n",
              "\n",
              "  <div id=\"id_681e6baa-f3ef-4810-9dc5-a232001bf47c\">\n",
              "    <style>\n",
              "      .colab-df-generate {\n",
              "        background-color: #E8F0FE;\n",
              "        border: none;\n",
              "        border-radius: 50%;\n",
              "        cursor: pointer;\n",
              "        display: none;\n",
              "        fill: #1967D2;\n",
              "        height: 32px;\n",
              "        padding: 0 0 0 0;\n",
              "        width: 32px;\n",
              "      }\n",
              "\n",
              "      .colab-df-generate:hover {\n",
              "        background-color: #E2EBFA;\n",
              "        box-shadow: 0px 1px 2px rgba(60, 64, 67, 0.3), 0px 1px 3px 1px rgba(60, 64, 67, 0.15);\n",
              "        fill: #174EA6;\n",
              "      }\n",
              "\n",
              "      [theme=dark] .colab-df-generate {\n",
              "        background-color: #3B4455;\n",
              "        fill: #D2E3FC;\n",
              "      }\n",
              "\n",
              "      [theme=dark] .colab-df-generate:hover {\n",
              "        background-color: #434B5C;\n",
              "        box-shadow: 0px 1px 3px 1px rgba(0, 0, 0, 0.15);\n",
              "        filter: drop-shadow(0px 1px 2px rgba(0, 0, 0, 0.3));\n",
              "        fill: #FFFFFF;\n",
              "      }\n",
              "    </style>\n",
              "    <button class=\"colab-df-generate\" onclick=\"generateWithVariable('rows_with_missing_region')\"\n",
              "            title=\"Generate code using this dataframe.\"\n",
              "            style=\"display:none;\">\n",
              "\n",
              "  <svg xmlns=\"http://www.w3.org/2000/svg\" height=\"24px\"viewBox=\"0 0 24 24\"\n",
              "       width=\"24px\">\n",
              "    <path d=\"M7,19H8.4L18.45,9,17,7.55,7,17.6ZM5,21V16.75L18.45,3.32a2,2,0,0,1,2.83,0l1.4,1.43a1.91,1.91,0,0,1,.58,1.4,1.91,1.91,0,0,1-.58,1.4L9.25,21ZM18.45,9,17,7.55Zm-12,3A5.31,5.31,0,0,0,4.9,8.1,5.31,5.31,0,0,0,1,6.5,5.31,5.31,0,0,0,4.9,4.9,5.31,5.31,0,0,0,6.5,1,5.31,5.31,0,0,0,8.1,4.9,5.31,5.31,0,0,0,12,6.5,5.46,5.46,0,0,0,6.5,12Z\"/>\n",
              "  </svg>\n",
              "    </button>\n",
              "    <script>\n",
              "      (() => {\n",
              "      const buttonEl =\n",
              "        document.querySelector('#id_681e6baa-f3ef-4810-9dc5-a232001bf47c button.colab-df-generate');\n",
              "      buttonEl.style.display =\n",
              "        google.colab.kernel.accessAllowed ? 'block' : 'none';\n",
              "\n",
              "      buttonEl.onclick = () => {\n",
              "        google.colab.notebook.generateWithVariable('rows_with_missing_region');\n",
              "      }\n",
              "      })();\n",
              "    </script>\n",
              "  </div>\n",
              "\n",
              "    </div>\n",
              "  </div>\n"
            ],
            "application/vnd.google.colaboratory.intrinsic+json": {
              "type": "dataframe",
              "variable_name": "rows_with_missing_region"
            }
          },
          "metadata": {},
          "execution_count": 34
        }
      ]
    },
    {
      "cell_type": "code",
      "source": [],
      "metadata": {
        "id": "q3_JNcBTLbUT"
      },
      "execution_count": null,
      "outputs": []
    },
    {
      "cell_type": "markdown",
      "metadata": {
        "id": "Evw03O6UMiW-"
      },
      "source": [
        "## Wartości odstające"
      ]
    },
    {
      "cell_type": "code",
      "execution_count": null,
      "metadata": {
        "id": "krqRxbbNMokN"
      },
      "outputs": [],
      "source": []
    },
    {
      "cell_type": "markdown",
      "metadata": {
        "id": "RTa__qc1md_8"
      },
      "source": [
        "# 6 Tworzenie zmiennych syntetycznych"
      ]
    },
    {
      "cell_type": "markdown",
      "metadata": {
        "id": "leS1F4CynQ9Y"
      },
      "source": [
        "## Filtrujemy osoby z doświadczeniem w branży budowlanej"
      ]
    },
    {
      "cell_type": "markdown",
      "metadata": {
        "id": "VoBH4u1unIb8"
      },
      "source": [
        "Dostępność relatywnie dużej liczby osób z doświadczeniem w budowlance:\n",
        "\n",
        "Jeżeli p3_isco2 = 71 (własna działalnośc + budowlanka) lub q3_isco2=71 (przeszłościowo robili w budowlance) lub e10_isco2=71 lub f5_isco2=71 (mieli kiedyś umowę o pracę w budowlance) lub u5_isco2=71 == wszystkie osoby które kiedyś lub teraz pracują w budowlane (na różnych formach zatrudnienia);"
      ]
    },
    {
      "cell_type": "code",
      "execution_count": null,
      "metadata": {
        "id": "zw7IxTCL0iWH"
      },
      "outputs": [],
      "source": [
        "# prompt: Pokaż dane tylko tych osób które mają p3_isco2 wartość = 71 lub q3_isco2=71 lub e10_isco=71 lub f5_isco2=71 lub u5_isco=71\n",
        "\n",
        "# Filter the DataFrame\n",
        "df_budowlancy_praktycy = df_1[\n",
        "    (df_L1['p3_isco2'] == 71) |\n",
        "    (df_L1['q3_isco2'] == 71) |\n",
        "    (df_L1['e10_isco'] == 71) |\n",
        "    (df_L1['f5_isco2'] == 71) |\n",
        "    (df_L1['u5_isco'] == 71)\n",
        "]\n",
        "\n",
        "# Display the filtered data\n",
        "df_budowlancy_praktycy\n"
      ]
    },
    {
      "cell_type": "code",
      "execution_count": null,
      "metadata": {
        "id": "LSWYM6fjlHMe"
      },
      "outputs": [],
      "source": [
        "# Dodanie nowej zmiennej 'bud_exp' do df_L1\n",
        "# df_L1['bud_exp'] = 0  # Inicjalizacja zmiennej zerami\n",
        "\n",
        "# Ustawienie wartości na 1 dla osób spełniających warunek\n",
        "# df_L1.loc[(df_L1['p3_isco2'] == 71) | (df_L1['q3_isco2'] == 71) | (df_L1['e10_isco2'] == 71) | (df_L1['f5_isco2'] == 71) | (df_L1['u5_isco2'] == 71), 'bud_exp'] = 1"
      ]
    },
    {
      "cell_type": "markdown",
      "metadata": {
        "id": "YAFsFe3cp2x5"
      },
      "source": [
        "## Filtrujemy osoby z wykształceniem w branży budowlanej"
      ]
    },
    {
      "cell_type": "markdown",
      "metadata": {
        "id": "AE0SOzWkqQme"
      },
      "source": [
        "## Dostępność relatywnie dużej liczby osób z wykształceniem budowlanym:\n",
        "\n",
        "od7112 do 7131 lub detaliczny podział: 711103 do 713102- malarz budowlany); i 2 cyfrowy: 71\n",
        "\n",
        "w3Z_4_isco (zasadnicza szkoła zawodowa)\n",
        "\n",
        "Wszystkie 3 zakresy łączymy razem;\n",
        "\n",
        "w3T_4_isco (technikum)\n",
        "Studia- sprawa jest zamotana- więc trzeba w uproszczone sortowanie zrobić;\n",
        "Koncentrujemy się na tych co kończyli studia: ISCED- kody kierunków;\n",
        "Poziom 3- najbardziej detaliczny\n",
        "\n",
        "Etykiety poszukać- są w bazie zaszyte"
      ]
    },
    {
      "cell_type": "code",
      "execution_count": null,
      "metadata": {
        "id": "AQdAb-ycqQIp"
      },
      "outputs": [],
      "source": [
        "# Dodanie nowej zmiennej 'bud_edu' do df_L1\n",
        "df_L1['bud_edu'] = 0  # Inicjalizacja zmiennej zerami\n",
        "\n",
        "# Ustawienie wartości na 1 dla osób spełniających warunek\n",
        "df_1.loc[(df_L1['p3_isco2'] == 71) | (df_L1['q3_isco2'] == 71) | (df_L1['e10_isco2'] == 71) | (df_L1['f5_isco2'] == 71) | (df_L1['u5_isco2'] == 71), 'bud_exp'] = 1"
      ]
    },
    {
      "cell_type": "code",
      "execution_count": null,
      "metadata": {
        "id": "swLfT-PmrstM"
      },
      "outputs": [],
      "source": []
    },
    {
      "cell_type": "code",
      "execution_count": null,
      "metadata": {
        "id": "-50vOhEoqHEb"
      },
      "outputs": [],
      "source": []
    },
    {
      "cell_type": "markdown",
      "metadata": {
        "id": "7WhW5JlY-qVC"
      },
      "source": [
        "## Filtrujemy osoby starsze niż 30 lat"
      ]
    },
    {
      "cell_type": "markdown",
      "metadata": {
        "id": "ICduNuMB_ABo"
      },
      "source": [
        "### {Założenie biznesowe} ponieważ od tego wieku nasi klienci postrzegą doradcę jako \"dojrzały\", tj. godny zaufania;"
      ]
    },
    {
      "cell_type": "code",
      "execution_count": null,
      "metadata": {
        "id": "V0YkPSsj-ont"
      },
      "outputs": [],
      "source": []
    },
    {
      "cell_type": "code",
      "execution_count": null,
      "metadata": {
        "id": "iOwpy1dL0zh9"
      },
      "outputs": [],
      "source": [
        "print(df_1['m1'].head(10))\n",
        "df_1['wiek_dzisiaj'] = 2025 - df_1['m1']\n",
        "df_1['wiek_dzisiaj'].value_counts().plot(kind='bar')\n",
        "plt.xlabel('Wiek respondenta')\n",
        "plt.ylabel('Count')\n",
        "plt.title('wiek_dzisiaj')\n",
        "plt.show()"
      ]
    },
    {
      "cell_type": "markdown",
      "metadata": {
        "id": "5oITfSnBKIRK"
      },
      "source": [
        "# 6 Wstępna wizualizacja danych"
      ]
    },
    {
      "cell_type": "markdown",
      "metadata": {
        "id": "JcEfbLkTKmLz"
      },
      "source": [
        "Do wizualizacji użyjemy pakietu ggplot2 https://github.com/rstudio/cheatsheets/blob/main/data-visualization.pdf"
      ]
    },
    {
      "cell_type": "markdown",
      "metadata": {
        "id": "G9ByKdHsKQAx"
      },
      "source": [
        "# Nowa sekcja"
      ]
    }
  ],
  "metadata": {
    "colab": {
      "collapsed_sections": [
        "R735nBG2lu9y",
        "humzcQQMsQKU",
        "Pwe4xYcQmRWK",
        "SiInhM8rsb2X"
      ],
      "toc_visible": true,
      "provenance": [],
      "authorship_tag": "ABX9TyNm9PMt8oTA3adeujBzj4vE",
      "include_colab_link": true
    },
    "kernelspec": {
      "display_name": "Python 3",
      "name": "python3"
    },
    "language_info": {
      "name": "python"
    }
  },
  "nbformat": 4,
  "nbformat_minor": 0
}